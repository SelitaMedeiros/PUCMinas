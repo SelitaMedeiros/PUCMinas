{
 "cells": [
  {
   "cell_type": "markdown",
   "metadata": {},
   "source": [
    "# PUC MG - Pontifícia Universidade Católica de Minas Gerais\n",
    "\n",
    "## TCC - Pós-Graduação em Ciência de Dados e Big Data\n",
    "\n",
    "### Título: Avaliação da Efetividade da Fiscalização em Relação à Arrecadação\n",
    "\n",
    "### Aluna: Selita Salvina de Medeiros"
   ]
  },
  {
   "cell_type": "markdown",
   "metadata": {},
   "source": [
    "# Importando as Bibliotecas"
   ]
  },
  {
   "cell_type": "code",
   "execution_count": 1,
   "metadata": {},
   "outputs": [],
   "source": [
    "# Importando as Bibliotecas\n",
    "import pandas as pd\n",
    "import numpy as np\n",
    "from sklearn.preprocessing import LabelEncoder\n",
    "import matplotlib.pyplot as plt\n",
    "import seaborn as sns\n",
    "%matplotlib inline\n",
    "from scipy import stats\n",
    "from sklearn.preprocessing import PowerTransformer"
   ]
  },
  {
   "cell_type": "markdown",
   "metadata": {},
   "source": [
    "# Carregando o Dataset"
   ]
  },
  {
   "cell_type": "code",
   "execution_count": 2,
   "metadata": {},
   "outputs": [
    {
     "data": {
      "text/html": [
       "<div>\n",
       "<style scoped>\n",
       "    .dataframe tbody tr th:only-of-type {\n",
       "        vertical-align: middle;\n",
       "    }\n",
       "\n",
       "    .dataframe tbody tr th {\n",
       "        vertical-align: top;\n",
       "    }\n",
       "\n",
       "    .dataframe thead th {\n",
       "        text-align: right;\n",
       "    }\n",
       "</style>\n",
       "<table border=\"1\" class=\"dataframe\">\n",
       "  <thead>\n",
       "    <tr style=\"text-align: right;\">\n",
       "      <th></th>\n",
       "      <th>Tributo</th>\n",
       "      <th>PF1</th>\n",
       "      <th>PF2</th>\n",
       "      <th>PF3</th>\n",
       "      <th>PF4</th>\n",
       "      <th>PF5</th>\n",
       "      <th>Horas Trabalhadas</th>\n",
       "      <th>Faixa Autuado</th>\n",
       "      <th>Variacao Arrecadacao</th>\n",
       "      <th>Ano Declaracao</th>\n",
       "      <th>Idade Declarante</th>\n",
       "      <th>Nat Ocup Principal</th>\n",
       "      <th>Ocup Principal</th>\n",
       "      <th>Faixa Patrimonio</th>\n",
       "      <th>Faixa Renda</th>\n",
       "    </tr>\n",
       "    <tr>\n",
       "      <th>Linha</th>\n",
       "      <th></th>\n",
       "      <th></th>\n",
       "      <th></th>\n",
       "      <th></th>\n",
       "      <th></th>\n",
       "      <th></th>\n",
       "      <th></th>\n",
       "      <th></th>\n",
       "      <th></th>\n",
       "      <th></th>\n",
       "      <th></th>\n",
       "      <th></th>\n",
       "      <th></th>\n",
       "      <th></th>\n",
       "      <th></th>\n",
       "    </tr>\n",
       "  </thead>\n",
       "  <tbody>\n",
       "    <tr>\n",
       "      <th>78</th>\n",
       "      <td>Tributo-IRPF</td>\n",
       "      <td>N</td>\n",
       "      <td>0.0</td>\n",
       "      <td>N</td>\n",
       "      <td>N</td>\n",
       "      <td>N</td>\n",
       "      <td>24.0</td>\n",
       "      <td>1</td>\n",
       "      <td>0</td>\n",
       "      <td>2018.0</td>\n",
       "      <td>39</td>\n",
       "      <td>Natureza da ocupação não especificada anterior...</td>\n",
       "      <td>Outras ocupações não especificadas anteriormente</td>\n",
       "      <td>4.0</td>\n",
       "      <td>1.0</td>\n",
       "    </tr>\n",
       "    <tr>\n",
       "      <th>192</th>\n",
       "      <td>Tributo-IRPF</td>\n",
       "      <td>N</td>\n",
       "      <td>0.0</td>\n",
       "      <td>N</td>\n",
       "      <td>N</td>\n",
       "      <td>N</td>\n",
       "      <td>8.0</td>\n",
       "      <td>1</td>\n",
       "      <td>0</td>\n",
       "      <td>2018.0</td>\n",
       "      <td>71</td>\n",
       "      <td>Espólio</td>\n",
       "      <td>Não informado</td>\n",
       "      <td>2.0</td>\n",
       "      <td>2.0</td>\n",
       "    </tr>\n",
       "    <tr>\n",
       "      <th>671</th>\n",
       "      <td>Tributo-Outros</td>\n",
       "      <td>N</td>\n",
       "      <td>0.0</td>\n",
       "      <td>N</td>\n",
       "      <td>N</td>\n",
       "      <td>N</td>\n",
       "      <td>12.0</td>\n",
       "      <td>1</td>\n",
       "      <td>0</td>\n",
       "      <td>2018.0</td>\n",
       "      <td>67</td>\n",
       "      <td>Proprietário de empr. ou firma indiv. ou empre...</td>\n",
       "      <td>Dirigente, pres., diretor emp. indust., com. o...</td>\n",
       "      <td>4.0</td>\n",
       "      <td>2.0</td>\n",
       "    </tr>\n",
       "    <tr>\n",
       "      <th>1859</th>\n",
       "      <td>Tributo-IRPF</td>\n",
       "      <td>N</td>\n",
       "      <td>0.0</td>\n",
       "      <td>N</td>\n",
       "      <td>N</td>\n",
       "      <td>N</td>\n",
       "      <td>16.0</td>\n",
       "      <td>1</td>\n",
       "      <td>0</td>\n",
       "      <td>2018.0</td>\n",
       "      <td>78</td>\n",
       "      <td>Servidor público de autarquia ou fundação esta...</td>\n",
       "      <td>Servidor das demais carreiras da admin. públic...</td>\n",
       "      <td>4.0</td>\n",
       "      <td>3.0</td>\n",
       "    </tr>\n",
       "    <tr>\n",
       "      <th>2727</th>\n",
       "      <td>Tributo-IRPF</td>\n",
       "      <td>N</td>\n",
       "      <td>0.0</td>\n",
       "      <td>S</td>\n",
       "      <td>N</td>\n",
       "      <td>N</td>\n",
       "      <td>0.0</td>\n",
       "      <td>1</td>\n",
       "      <td>0</td>\n",
       "      <td>2018.0</td>\n",
       "      <td>31</td>\n",
       "      <td>Empregado de empresa setor privado, exceto ins...</td>\n",
       "      <td>Médico</td>\n",
       "      <td>2.0</td>\n",
       "      <td>2.0</td>\n",
       "    </tr>\n",
       "  </tbody>\n",
       "</table>\n",
       "</div>"
      ],
      "text/plain": [
       "              Tributo PF1  PF2 PF3 PF4 PF5  Horas Trabalhadas  Faixa Autuado  \\\n",
       "Linha                                                                          \n",
       "78       Tributo-IRPF   N  0.0   N   N   N               24.0              1   \n",
       "192      Tributo-IRPF   N  0.0   N   N   N                8.0              1   \n",
       "671    Tributo-Outros   N  0.0   N   N   N               12.0              1   \n",
       "1859     Tributo-IRPF   N  0.0   N   N   N               16.0              1   \n",
       "2727     Tributo-IRPF   N  0.0   S   N   N                0.0              1   \n",
       "\n",
       "       Variacao Arrecadacao  Ano Declaracao  Idade Declarante  \\\n",
       "Linha                                                           \n",
       "78                        0          2018.0                39   \n",
       "192                       0          2018.0                71   \n",
       "671                       0          2018.0                67   \n",
       "1859                      0          2018.0                78   \n",
       "2727                      0          2018.0                31   \n",
       "\n",
       "                                      Nat Ocup Principal  \\\n",
       "Linha                                                      \n",
       "78     Natureza da ocupação não especificada anterior...   \n",
       "192                                              Espólio   \n",
       "671    Proprietário de empr. ou firma indiv. ou empre...   \n",
       "1859   Servidor público de autarquia ou fundação esta...   \n",
       "2727   Empregado de empresa setor privado, exceto ins...   \n",
       "\n",
       "                                          Ocup Principal  Faixa Patrimonio  \\\n",
       "Linha                                                                        \n",
       "78      Outras ocupações não especificadas anteriormente               4.0   \n",
       "192                                        Não informado               2.0   \n",
       "671    Dirigente, pres., diretor emp. indust., com. o...               4.0   \n",
       "1859   Servidor das demais carreiras da admin. públic...               4.0   \n",
       "2727                                              Médico               2.0   \n",
       "\n",
       "       Faixa Renda  \n",
       "Linha               \n",
       "78             1.0  \n",
       "192            2.0  \n",
       "671            2.0  \n",
       "1859           3.0  \n",
       "2727           2.0  "
      ]
     },
     "execution_count": 2,
     "metadata": {},
     "output_type": "execute_result"
    }
   ],
   "source": [
    "df_fiscPF = pd.read_csv(\"dataset2.csv\",sep=';',index_col='Linha')\n",
    "df_fiscPF.head()"
   ]
  },
  {
   "cell_type": "code",
   "execution_count": 3,
   "metadata": {},
   "outputs": [
    {
     "data": {
      "text/plain": [
       "(3179, 15)"
      ]
     },
     "execution_count": 3,
     "metadata": {},
     "output_type": "execute_result"
    }
   ],
   "source": [
    "# Verificando a dimensão do dataframe\n",
    "df_fiscPF.shape"
   ]
  },
  {
   "cell_type": "markdown",
   "metadata": {},
   "source": [
    "# Iniciando a Transformação dos Dados"
   ]
  },
  {
   "cell_type": "code",
   "execution_count": 4,
   "metadata": {},
   "outputs": [
    {
     "data": {
      "text/plain": [
       "Tributo                  object\n",
       "PF1                      object\n",
       "PF2                     float64\n",
       "PF3                      object\n",
       "PF4                      object\n",
       "PF5                      object\n",
       "Horas Trabalhadas       float64\n",
       "Faixa Autuado             int64\n",
       "Variacao Arrecadacao      int64\n",
       "Ano Declaracao          float64\n",
       "Idade Declarante          int64\n",
       "Nat Ocup Principal       object\n",
       "Ocup Principal           object\n",
       "Faixa Patrimonio        float64\n",
       "Faixa Renda             float64\n",
       "dtype: object"
      ]
     },
     "execution_count": 4,
     "metadata": {},
     "output_type": "execute_result"
    }
   ],
   "source": [
    "# Verificando os tipos das variáveis\n",
    "df_fiscPF.dtypes"
   ]
  },
  {
   "cell_type": "markdown",
   "metadata": {},
   "source": [
    "## Verificando os Missing Values"
   ]
  },
  {
   "cell_type": "code",
   "execution_count": 5,
   "metadata": {},
   "outputs": [
    {
     "data": {
      "text/plain": [
       "Tributo                   0\n",
       "PF1                       1\n",
       "PF2                       1\n",
       "PF3                       0\n",
       "PF4                       0\n",
       "PF5                       0\n",
       "Horas Trabalhadas         1\n",
       "Faixa Autuado             0\n",
       "Variacao Arrecadacao      0\n",
       "Ano Declaracao          111\n",
       "Idade Declarante          0\n",
       "Nat Ocup Principal      111\n",
       "Ocup Principal          111\n",
       "Faixa Patrimonio        111\n",
       "Faixa Renda             111\n",
       "dtype: int64"
      ]
     },
     "execution_count": 5,
     "metadata": {},
     "output_type": "execute_result"
    }
   ],
   "source": [
    "df_fiscPF.isnull().sum()"
   ]
  },
  {
   "cell_type": "markdown",
   "metadata": {},
   "source": [
    "## Tratamento das variáveis Categóricas"
   ]
  },
  {
   "cell_type": "code",
   "execution_count": 6,
   "metadata": {},
   "outputs": [],
   "source": [
    "#As variáveis Categóricas são:\n",
    "# Tributo             transformada para baixa cardinalidade criar variáveis dummy\n",
    "# PF1                 baixa cardinalidade                   criar variáveis LabelEncoder\n",
    "# PF3                 baixa cardinalidade                   criar variáveis LabelEncoder\n",
    "# PF4                 baixa cardinalidade                   criar variáveis LabelEncoder\n",
    "# PF5                 baixa cardinalidade                   criar variáveis LabelEncoder\n",
    "# Ano Declaracao      baixa cardinalidade                   criar variáveis LabelEncoder\n",
    "# Nat Ocup Principal  alta cardinalidade                    criar variáveis Label Encoder\n",
    "# Ocup Principal      alta cardinalidade                       "
   ]
  },
  {
   "cell_type": "markdown",
   "metadata": {},
   "source": [
    "##  Tratamento conforme a cardinalidade\n",
    "\n",
    "Abaixo, verificamos que as variáveis categóricas PF1, PF3, PF4, PF5 possuem menos de 10 valores únicos. Desta forma, são consideradas de baixa cardinalidade e o tratamento indicado é a criação de variáveis dummies.\n",
    "\n",
    "Veremos que a variável Tributo também possui menos de 10 valores únicos. Mas, alguns valores possuem baixa frequência. Então, decidimos por agrupar os valores com baixa frequência.\n",
    "\n",
    "Sobre a variável Ano Declaração, não nos é relevante o ano efetivo da declaração, mas sim, se é um contribuinte que entregou declaração de IR nos anos próximos. Então, será discretizada com base nesta característica."
   ]
  },
  {
   "cell_type": "markdown",
   "metadata": {},
   "source": [
    "### Transformando a variável Tributo\n",
    "Agrupando tributos e criando variáveis dummy para cada valor"
   ]
  },
  {
   "cell_type": "code",
   "execution_count": 7,
   "metadata": {},
   "outputs": [
    {
     "data": {
      "text/plain": [
       "array(['Tributo-IRPF', 'Tributo-Outros', 'Tributo-IRRF',\n",
       "       'Tributo-Previdência', 'Tributo-IPI', 'Tributo-IRPJ/CSLL',\n",
       "       'Tributo-Simples', 'Tributo-IOF'], dtype=object)"
      ]
     },
     "execution_count": 7,
     "metadata": {},
     "output_type": "execute_result"
    }
   ],
   "source": [
    "# Checando os valores existentes e se tem valores nulos\n",
    "df_fiscPF['Tributo'].unique()"
   ]
  },
  {
   "cell_type": "code",
   "execution_count": 8,
   "metadata": {},
   "outputs": [
    {
     "data": {
      "text/plain": [
       "Tributo-IRPF           2388\n",
       "Tributo-Previdência     678\n",
       "Tributo-Outros           42\n",
       "Tributo-IRRF             33\n",
       "Tributo-IRPJ/CSLL        27\n",
       "Tributo-IPI               6\n",
       "Tributo-IOF               4\n",
       "Tributo-Simples           1\n",
       "Name: Tributo, dtype: int64"
      ]
     },
     "execution_count": 8,
     "metadata": {},
     "output_type": "execute_result"
    }
   ],
   "source": [
    "# Verificando a quantidade de cada valor\n",
    "df_fiscPF['Tributo'].value_counts()"
   ]
  },
  {
   "cell_type": "code",
   "execution_count": 9,
   "metadata": {},
   "outputs": [
    {
     "data": {
      "text/plain": [
       "Tributo-IRPF           2388\n",
       "Tributo-Previdência     678\n",
       "Tributo-Outros          113\n",
       "Name: Tributo, dtype: int64"
      ]
     },
     "execution_count": 9,
     "metadata": {},
     "output_type": "execute_result"
    }
   ],
   "source": [
    "#Vários tributos possuem baixa número de ocorrências. Então, decidimos por juntá-los como Outros\n",
    "df_fiscPF['Tributo'] = df_fiscPF['Tributo'].replace({'Tributo-IRRF':'Tributo-Outros',\n",
    "                                                     'Tributo-IRPJ/CSLL':'Tributo-Outros',\n",
    "                                                     'Tributo-IPI':'Tributo-Outros',\n",
    "                                                     'Tributo-IOF':'Tributo-Outros',\n",
    "                                                     'Tributo-Simples':'Tributo-Outros'})\n",
    "df_fiscPF['Tributo'].value_counts()"
   ]
  },
  {
   "cell_type": "code",
   "execution_count": 10,
   "metadata": {},
   "outputs": [
    {
     "data": {
      "text/html": [
       "<div>\n",
       "<style scoped>\n",
       "    .dataframe tbody tr th:only-of-type {\n",
       "        vertical-align: middle;\n",
       "    }\n",
       "\n",
       "    .dataframe tbody tr th {\n",
       "        vertical-align: top;\n",
       "    }\n",
       "\n",
       "    .dataframe thead th {\n",
       "        text-align: right;\n",
       "    }\n",
       "</style>\n",
       "<table border=\"1\" class=\"dataframe\">\n",
       "  <thead>\n",
       "    <tr style=\"text-align: right;\">\n",
       "      <th></th>\n",
       "      <th>Tributo</th>\n",
       "      <th>PF1</th>\n",
       "      <th>PF2</th>\n",
       "      <th>PF3</th>\n",
       "      <th>PF4</th>\n",
       "      <th>PF5</th>\n",
       "      <th>Horas Trabalhadas</th>\n",
       "      <th>Faixa Autuado</th>\n",
       "      <th>Variacao Arrecadacao</th>\n",
       "      <th>Ano Declaracao</th>\n",
       "      <th>Idade Declarante</th>\n",
       "      <th>Nat Ocup Principal</th>\n",
       "      <th>Ocup Principal</th>\n",
       "      <th>Faixa Patrimonio</th>\n",
       "      <th>Faixa Renda</th>\n",
       "      <th>Dm_Tributo-Outros</th>\n",
       "      <th>Dm_Tributo-Previdência</th>\n",
       "    </tr>\n",
       "    <tr>\n",
       "      <th>Linha</th>\n",
       "      <th></th>\n",
       "      <th></th>\n",
       "      <th></th>\n",
       "      <th></th>\n",
       "      <th></th>\n",
       "      <th></th>\n",
       "      <th></th>\n",
       "      <th></th>\n",
       "      <th></th>\n",
       "      <th></th>\n",
       "      <th></th>\n",
       "      <th></th>\n",
       "      <th></th>\n",
       "      <th></th>\n",
       "      <th></th>\n",
       "      <th></th>\n",
       "      <th></th>\n",
       "    </tr>\n",
       "  </thead>\n",
       "  <tbody>\n",
       "    <tr>\n",
       "      <th>78</th>\n",
       "      <td>Tributo-IRPF</td>\n",
       "      <td>N</td>\n",
       "      <td>0.0</td>\n",
       "      <td>N</td>\n",
       "      <td>N</td>\n",
       "      <td>N</td>\n",
       "      <td>24.0</td>\n",
       "      <td>1</td>\n",
       "      <td>0</td>\n",
       "      <td>2018.0</td>\n",
       "      <td>39</td>\n",
       "      <td>Natureza da ocupação não especificada anterior...</td>\n",
       "      <td>Outras ocupações não especificadas anteriormente</td>\n",
       "      <td>4.0</td>\n",
       "      <td>1.0</td>\n",
       "      <td>0</td>\n",
       "      <td>0</td>\n",
       "    </tr>\n",
       "    <tr>\n",
       "      <th>192</th>\n",
       "      <td>Tributo-IRPF</td>\n",
       "      <td>N</td>\n",
       "      <td>0.0</td>\n",
       "      <td>N</td>\n",
       "      <td>N</td>\n",
       "      <td>N</td>\n",
       "      <td>8.0</td>\n",
       "      <td>1</td>\n",
       "      <td>0</td>\n",
       "      <td>2018.0</td>\n",
       "      <td>71</td>\n",
       "      <td>Espólio</td>\n",
       "      <td>Não informado</td>\n",
       "      <td>2.0</td>\n",
       "      <td>2.0</td>\n",
       "      <td>0</td>\n",
       "      <td>0</td>\n",
       "    </tr>\n",
       "    <tr>\n",
       "      <th>671</th>\n",
       "      <td>Tributo-Outros</td>\n",
       "      <td>N</td>\n",
       "      <td>0.0</td>\n",
       "      <td>N</td>\n",
       "      <td>N</td>\n",
       "      <td>N</td>\n",
       "      <td>12.0</td>\n",
       "      <td>1</td>\n",
       "      <td>0</td>\n",
       "      <td>2018.0</td>\n",
       "      <td>67</td>\n",
       "      <td>Proprietário de empr. ou firma indiv. ou empre...</td>\n",
       "      <td>Dirigente, pres., diretor emp. indust., com. o...</td>\n",
       "      <td>4.0</td>\n",
       "      <td>2.0</td>\n",
       "      <td>1</td>\n",
       "      <td>0</td>\n",
       "    </tr>\n",
       "    <tr>\n",
       "      <th>1859</th>\n",
       "      <td>Tributo-IRPF</td>\n",
       "      <td>N</td>\n",
       "      <td>0.0</td>\n",
       "      <td>N</td>\n",
       "      <td>N</td>\n",
       "      <td>N</td>\n",
       "      <td>16.0</td>\n",
       "      <td>1</td>\n",
       "      <td>0</td>\n",
       "      <td>2018.0</td>\n",
       "      <td>78</td>\n",
       "      <td>Servidor público de autarquia ou fundação esta...</td>\n",
       "      <td>Servidor das demais carreiras da admin. públic...</td>\n",
       "      <td>4.0</td>\n",
       "      <td>3.0</td>\n",
       "      <td>0</td>\n",
       "      <td>0</td>\n",
       "    </tr>\n",
       "    <tr>\n",
       "      <th>2727</th>\n",
       "      <td>Tributo-IRPF</td>\n",
       "      <td>N</td>\n",
       "      <td>0.0</td>\n",
       "      <td>S</td>\n",
       "      <td>N</td>\n",
       "      <td>N</td>\n",
       "      <td>0.0</td>\n",
       "      <td>1</td>\n",
       "      <td>0</td>\n",
       "      <td>2018.0</td>\n",
       "      <td>31</td>\n",
       "      <td>Empregado de empresa setor privado, exceto ins...</td>\n",
       "      <td>Médico</td>\n",
       "      <td>2.0</td>\n",
       "      <td>2.0</td>\n",
       "      <td>0</td>\n",
       "      <td>0</td>\n",
       "    </tr>\n",
       "  </tbody>\n",
       "</table>\n",
       "</div>"
      ],
      "text/plain": [
       "              Tributo PF1  PF2 PF3 PF4 PF5  Horas Trabalhadas  Faixa Autuado  \\\n",
       "Linha                                                                          \n",
       "78       Tributo-IRPF   N  0.0   N   N   N               24.0              1   \n",
       "192      Tributo-IRPF   N  0.0   N   N   N                8.0              1   \n",
       "671    Tributo-Outros   N  0.0   N   N   N               12.0              1   \n",
       "1859     Tributo-IRPF   N  0.0   N   N   N               16.0              1   \n",
       "2727     Tributo-IRPF   N  0.0   S   N   N                0.0              1   \n",
       "\n",
       "       Variacao Arrecadacao  Ano Declaracao  Idade Declarante  \\\n",
       "Linha                                                           \n",
       "78                        0          2018.0                39   \n",
       "192                       0          2018.0                71   \n",
       "671                       0          2018.0                67   \n",
       "1859                      0          2018.0                78   \n",
       "2727                      0          2018.0                31   \n",
       "\n",
       "                                      Nat Ocup Principal  \\\n",
       "Linha                                                      \n",
       "78     Natureza da ocupação não especificada anterior...   \n",
       "192                                              Espólio   \n",
       "671    Proprietário de empr. ou firma indiv. ou empre...   \n",
       "1859   Servidor público de autarquia ou fundação esta...   \n",
       "2727   Empregado de empresa setor privado, exceto ins...   \n",
       "\n",
       "                                          Ocup Principal  Faixa Patrimonio  \\\n",
       "Linha                                                                        \n",
       "78      Outras ocupações não especificadas anteriormente               4.0   \n",
       "192                                        Não informado               2.0   \n",
       "671    Dirigente, pres., diretor emp. indust., com. o...               4.0   \n",
       "1859   Servidor das demais carreiras da admin. públic...               4.0   \n",
       "2727                                              Médico               2.0   \n",
       "\n",
       "       Faixa Renda  Dm_Tributo-Outros  Dm_Tributo-Previdência  \n",
       "Linha                                                          \n",
       "78             1.0                  0                       0  \n",
       "192            2.0                  0                       0  \n",
       "671            2.0                  1                       0  \n",
       "1859           3.0                  0                       0  \n",
       "2727           2.0                  0                       0  "
      ]
     },
     "execution_count": 10,
     "metadata": {},
     "output_type": "execute_result"
    }
   ],
   "source": [
    "#Criando as variáveis dummies para os Tributos\n",
    "dummies = pd.get_dummies(df_fiscPF['Tributo'], drop_first = True, prefix = 'Dm')\n",
    "df_fiscPF = pd.concat([df_fiscPF, dummies], axis = 1)\n",
    "df_fiscPF.head()"
   ]
  },
  {
   "cell_type": "markdown",
   "metadata": {},
   "source": [
    "### Transformando a variável PF1\n",
    "Retirando valores nulos e criando variáveis Label Encoder"
   ]
  },
  {
   "cell_type": "code",
   "execution_count": 11,
   "metadata": {},
   "outputs": [
    {
     "data": {
      "text/plain": [
       "array(['N', 'S', nan], dtype=object)"
      ]
     },
     "execution_count": 11,
     "metadata": {},
     "output_type": "execute_result"
    }
   ],
   "source": [
    "# Checando os valores existentes e se tem valores nulos\n",
    "df_fiscPF['PF1'].unique()"
   ]
  },
  {
   "cell_type": "code",
   "execution_count": 12,
   "metadata": {},
   "outputs": [
    {
     "data": {
      "text/plain": [
       "1"
      ]
     },
     "execution_count": 12,
     "metadata": {},
     "output_type": "execute_result"
    }
   ],
   "source": [
    "# Contando quantos valores nulos\n",
    "df_fiscPF['PF1'].isna().sum()"
   ]
  },
  {
   "cell_type": "code",
   "execution_count": 13,
   "metadata": {},
   "outputs": [
    {
     "data": {
      "text/plain": [
       "N    2900\n",
       "S     278\n",
       "Name: PF1, dtype: int64"
      ]
     },
     "execution_count": 13,
     "metadata": {},
     "output_type": "execute_result"
    }
   ],
   "source": [
    "# Verificando a quantidade de cada valor\n",
    "df_fiscPF['PF1'].value_counts()"
   ]
  },
  {
   "cell_type": "code",
   "execution_count": 14,
   "metadata": {},
   "outputs": [
    {
     "data": {
      "text/plain": [
       "N    2901\n",
       "S     278\n",
       "Name: PF1, dtype: int64"
      ]
     },
     "execution_count": 14,
     "metadata": {},
     "output_type": "execute_result"
    }
   ],
   "source": [
    "# Vamos substituir o valor nulo pelo valor \"N\", já que corresponde a 91%\n",
    "df_fiscPF['PF1'] = df_fiscPF['PF1'].fillna(\"N\")\n",
    "df_fiscPF['PF1'].value_counts()"
   ]
  },
  {
   "cell_type": "code",
   "execution_count": 15,
   "metadata": {},
   "outputs": [
    {
     "data": {
      "text/plain": [
       "0"
      ]
     },
     "execution_count": 15,
     "metadata": {},
     "output_type": "execute_result"
    }
   ],
   "source": [
    "# Confirmando que não tem mais missing values\n",
    "df_fiscPF['PF1'].isna().sum()"
   ]
  },
  {
   "cell_type": "code",
   "execution_count": 16,
   "metadata": {},
   "outputs": [
    {
     "data": {
      "text/html": [
       "<div>\n",
       "<style scoped>\n",
       "    .dataframe tbody tr th:only-of-type {\n",
       "        vertical-align: middle;\n",
       "    }\n",
       "\n",
       "    .dataframe tbody tr th {\n",
       "        vertical-align: top;\n",
       "    }\n",
       "\n",
       "    .dataframe thead th {\n",
       "        text-align: right;\n",
       "    }\n",
       "</style>\n",
       "<table border=\"1\" class=\"dataframe\">\n",
       "  <thead>\n",
       "    <tr style=\"text-align: right;\">\n",
       "      <th></th>\n",
       "      <th>Tributo</th>\n",
       "      <th>PF1</th>\n",
       "      <th>PF2</th>\n",
       "      <th>PF3</th>\n",
       "      <th>PF4</th>\n",
       "      <th>PF5</th>\n",
       "      <th>Horas Trabalhadas</th>\n",
       "      <th>Faixa Autuado</th>\n",
       "      <th>Variacao Arrecadacao</th>\n",
       "      <th>Ano Declaracao</th>\n",
       "      <th>Idade Declarante</th>\n",
       "      <th>Nat Ocup Principal</th>\n",
       "      <th>Ocup Principal</th>\n",
       "      <th>Faixa Patrimonio</th>\n",
       "      <th>Faixa Renda</th>\n",
       "      <th>Dm_Tributo-Outros</th>\n",
       "      <th>Dm_Tributo-Previdência</th>\n",
       "      <th>Le_PF1</th>\n",
       "    </tr>\n",
       "    <tr>\n",
       "      <th>Linha</th>\n",
       "      <th></th>\n",
       "      <th></th>\n",
       "      <th></th>\n",
       "      <th></th>\n",
       "      <th></th>\n",
       "      <th></th>\n",
       "      <th></th>\n",
       "      <th></th>\n",
       "      <th></th>\n",
       "      <th></th>\n",
       "      <th></th>\n",
       "      <th></th>\n",
       "      <th></th>\n",
       "      <th></th>\n",
       "      <th></th>\n",
       "      <th></th>\n",
       "      <th></th>\n",
       "      <th></th>\n",
       "    </tr>\n",
       "  </thead>\n",
       "  <tbody>\n",
       "    <tr>\n",
       "      <th>78</th>\n",
       "      <td>Tributo-IRPF</td>\n",
       "      <td>N</td>\n",
       "      <td>0.0</td>\n",
       "      <td>N</td>\n",
       "      <td>N</td>\n",
       "      <td>N</td>\n",
       "      <td>24.0</td>\n",
       "      <td>1</td>\n",
       "      <td>0</td>\n",
       "      <td>2018.0</td>\n",
       "      <td>39</td>\n",
       "      <td>Natureza da ocupação não especificada anterior...</td>\n",
       "      <td>Outras ocupações não especificadas anteriormente</td>\n",
       "      <td>4.0</td>\n",
       "      <td>1.0</td>\n",
       "      <td>0</td>\n",
       "      <td>0</td>\n",
       "      <td>0</td>\n",
       "    </tr>\n",
       "    <tr>\n",
       "      <th>192</th>\n",
       "      <td>Tributo-IRPF</td>\n",
       "      <td>N</td>\n",
       "      <td>0.0</td>\n",
       "      <td>N</td>\n",
       "      <td>N</td>\n",
       "      <td>N</td>\n",
       "      <td>8.0</td>\n",
       "      <td>1</td>\n",
       "      <td>0</td>\n",
       "      <td>2018.0</td>\n",
       "      <td>71</td>\n",
       "      <td>Espólio</td>\n",
       "      <td>Não informado</td>\n",
       "      <td>2.0</td>\n",
       "      <td>2.0</td>\n",
       "      <td>0</td>\n",
       "      <td>0</td>\n",
       "      <td>0</td>\n",
       "    </tr>\n",
       "    <tr>\n",
       "      <th>671</th>\n",
       "      <td>Tributo-Outros</td>\n",
       "      <td>N</td>\n",
       "      <td>0.0</td>\n",
       "      <td>N</td>\n",
       "      <td>N</td>\n",
       "      <td>N</td>\n",
       "      <td>12.0</td>\n",
       "      <td>1</td>\n",
       "      <td>0</td>\n",
       "      <td>2018.0</td>\n",
       "      <td>67</td>\n",
       "      <td>Proprietário de empr. ou firma indiv. ou empre...</td>\n",
       "      <td>Dirigente, pres., diretor emp. indust., com. o...</td>\n",
       "      <td>4.0</td>\n",
       "      <td>2.0</td>\n",
       "      <td>1</td>\n",
       "      <td>0</td>\n",
       "      <td>0</td>\n",
       "    </tr>\n",
       "    <tr>\n",
       "      <th>1859</th>\n",
       "      <td>Tributo-IRPF</td>\n",
       "      <td>N</td>\n",
       "      <td>0.0</td>\n",
       "      <td>N</td>\n",
       "      <td>N</td>\n",
       "      <td>N</td>\n",
       "      <td>16.0</td>\n",
       "      <td>1</td>\n",
       "      <td>0</td>\n",
       "      <td>2018.0</td>\n",
       "      <td>78</td>\n",
       "      <td>Servidor público de autarquia ou fundação esta...</td>\n",
       "      <td>Servidor das demais carreiras da admin. públic...</td>\n",
       "      <td>4.0</td>\n",
       "      <td>3.0</td>\n",
       "      <td>0</td>\n",
       "      <td>0</td>\n",
       "      <td>0</td>\n",
       "    </tr>\n",
       "    <tr>\n",
       "      <th>2727</th>\n",
       "      <td>Tributo-IRPF</td>\n",
       "      <td>N</td>\n",
       "      <td>0.0</td>\n",
       "      <td>S</td>\n",
       "      <td>N</td>\n",
       "      <td>N</td>\n",
       "      <td>0.0</td>\n",
       "      <td>1</td>\n",
       "      <td>0</td>\n",
       "      <td>2018.0</td>\n",
       "      <td>31</td>\n",
       "      <td>Empregado de empresa setor privado, exceto ins...</td>\n",
       "      <td>Médico</td>\n",
       "      <td>2.0</td>\n",
       "      <td>2.0</td>\n",
       "      <td>0</td>\n",
       "      <td>0</td>\n",
       "      <td>0</td>\n",
       "    </tr>\n",
       "  </tbody>\n",
       "</table>\n",
       "</div>"
      ],
      "text/plain": [
       "              Tributo PF1  PF2 PF3 PF4 PF5  Horas Trabalhadas  Faixa Autuado  \\\n",
       "Linha                                                                          \n",
       "78       Tributo-IRPF   N  0.0   N   N   N               24.0              1   \n",
       "192      Tributo-IRPF   N  0.0   N   N   N                8.0              1   \n",
       "671    Tributo-Outros   N  0.0   N   N   N               12.0              1   \n",
       "1859     Tributo-IRPF   N  0.0   N   N   N               16.0              1   \n",
       "2727     Tributo-IRPF   N  0.0   S   N   N                0.0              1   \n",
       "\n",
       "       Variacao Arrecadacao  Ano Declaracao  Idade Declarante  \\\n",
       "Linha                                                           \n",
       "78                        0          2018.0                39   \n",
       "192                       0          2018.0                71   \n",
       "671                       0          2018.0                67   \n",
       "1859                      0          2018.0                78   \n",
       "2727                      0          2018.0                31   \n",
       "\n",
       "                                      Nat Ocup Principal  \\\n",
       "Linha                                                      \n",
       "78     Natureza da ocupação não especificada anterior...   \n",
       "192                                              Espólio   \n",
       "671    Proprietário de empr. ou firma indiv. ou empre...   \n",
       "1859   Servidor público de autarquia ou fundação esta...   \n",
       "2727   Empregado de empresa setor privado, exceto ins...   \n",
       "\n",
       "                                          Ocup Principal  Faixa Patrimonio  \\\n",
       "Linha                                                                        \n",
       "78      Outras ocupações não especificadas anteriormente               4.0   \n",
       "192                                        Não informado               2.0   \n",
       "671    Dirigente, pres., diretor emp. indust., com. o...               4.0   \n",
       "1859   Servidor das demais carreiras da admin. públic...               4.0   \n",
       "2727                                              Médico               2.0   \n",
       "\n",
       "       Faixa Renda  Dm_Tributo-Outros  Dm_Tributo-Previdência  Le_PF1  \n",
       "Linha                                                                  \n",
       "78             1.0                  0                       0       0  \n",
       "192            2.0                  0                       0       0  \n",
       "671            2.0                  1                       0       0  \n",
       "1859           3.0                  0                       0       0  \n",
       "2727           2.0                  0                       0       0  "
      ]
     },
     "execution_count": 16,
     "metadata": {},
     "output_type": "execute_result"
    }
   ],
   "source": [
    "# Cria uma nova coluna [Le_PF1] com base na variável PF1 transformada em variável Label Encoder.\n",
    "le = LabelEncoder()\n",
    "df_fiscPF['Le_PF1'] = le.fit_transform(df_fiscPF['PF1'])\n",
    "df_fiscPF.head()"
   ]
  },
  {
   "cell_type": "markdown",
   "metadata": {},
   "source": [
    "### Transformando a variável PF3\n",
    "Retirando valores nulos e criando variáveis Label Encoder"
   ]
  },
  {
   "cell_type": "code",
   "execution_count": 17,
   "metadata": {},
   "outputs": [
    {
     "data": {
      "text/plain": [
       "array(['N', 'S'], dtype=object)"
      ]
     },
     "execution_count": 17,
     "metadata": {},
     "output_type": "execute_result"
    }
   ],
   "source": [
    "# Checando os valores existentes e se tem valores nulos\n",
    "df_fiscPF['PF3'].unique()"
   ]
  },
  {
   "cell_type": "code",
   "execution_count": 18,
   "metadata": {},
   "outputs": [
    {
     "data": {
      "text/plain": [
       "N    2682\n",
       "S     497\n",
       "Name: PF3, dtype: int64"
      ]
     },
     "execution_count": 18,
     "metadata": {},
     "output_type": "execute_result"
    }
   ],
   "source": [
    "# Verificando a quantidade de cada valor\n",
    "df_fiscPF['PF3'].value_counts()"
   ]
  },
  {
   "cell_type": "code",
   "execution_count": 19,
   "metadata": {},
   "outputs": [
    {
     "data": {
      "text/html": [
       "<div>\n",
       "<style scoped>\n",
       "    .dataframe tbody tr th:only-of-type {\n",
       "        vertical-align: middle;\n",
       "    }\n",
       "\n",
       "    .dataframe tbody tr th {\n",
       "        vertical-align: top;\n",
       "    }\n",
       "\n",
       "    .dataframe thead th {\n",
       "        text-align: right;\n",
       "    }\n",
       "</style>\n",
       "<table border=\"1\" class=\"dataframe\">\n",
       "  <thead>\n",
       "    <tr style=\"text-align: right;\">\n",
       "      <th></th>\n",
       "      <th>Tributo</th>\n",
       "      <th>PF1</th>\n",
       "      <th>PF2</th>\n",
       "      <th>PF3</th>\n",
       "      <th>PF4</th>\n",
       "      <th>PF5</th>\n",
       "      <th>Horas Trabalhadas</th>\n",
       "      <th>Faixa Autuado</th>\n",
       "      <th>Variacao Arrecadacao</th>\n",
       "      <th>Ano Declaracao</th>\n",
       "      <th>Idade Declarante</th>\n",
       "      <th>Nat Ocup Principal</th>\n",
       "      <th>Ocup Principal</th>\n",
       "      <th>Faixa Patrimonio</th>\n",
       "      <th>Faixa Renda</th>\n",
       "      <th>Dm_Tributo-Outros</th>\n",
       "      <th>Dm_Tributo-Previdência</th>\n",
       "      <th>Le_PF1</th>\n",
       "      <th>Le_PF3</th>\n",
       "    </tr>\n",
       "    <tr>\n",
       "      <th>Linha</th>\n",
       "      <th></th>\n",
       "      <th></th>\n",
       "      <th></th>\n",
       "      <th></th>\n",
       "      <th></th>\n",
       "      <th></th>\n",
       "      <th></th>\n",
       "      <th></th>\n",
       "      <th></th>\n",
       "      <th></th>\n",
       "      <th></th>\n",
       "      <th></th>\n",
       "      <th></th>\n",
       "      <th></th>\n",
       "      <th></th>\n",
       "      <th></th>\n",
       "      <th></th>\n",
       "      <th></th>\n",
       "      <th></th>\n",
       "    </tr>\n",
       "  </thead>\n",
       "  <tbody>\n",
       "    <tr>\n",
       "      <th>78</th>\n",
       "      <td>Tributo-IRPF</td>\n",
       "      <td>N</td>\n",
       "      <td>0.0</td>\n",
       "      <td>N</td>\n",
       "      <td>N</td>\n",
       "      <td>N</td>\n",
       "      <td>24.0</td>\n",
       "      <td>1</td>\n",
       "      <td>0</td>\n",
       "      <td>2018.0</td>\n",
       "      <td>39</td>\n",
       "      <td>Natureza da ocupação não especificada anterior...</td>\n",
       "      <td>Outras ocupações não especificadas anteriormente</td>\n",
       "      <td>4.0</td>\n",
       "      <td>1.0</td>\n",
       "      <td>0</td>\n",
       "      <td>0</td>\n",
       "      <td>0</td>\n",
       "      <td>0</td>\n",
       "    </tr>\n",
       "    <tr>\n",
       "      <th>192</th>\n",
       "      <td>Tributo-IRPF</td>\n",
       "      <td>N</td>\n",
       "      <td>0.0</td>\n",
       "      <td>N</td>\n",
       "      <td>N</td>\n",
       "      <td>N</td>\n",
       "      <td>8.0</td>\n",
       "      <td>1</td>\n",
       "      <td>0</td>\n",
       "      <td>2018.0</td>\n",
       "      <td>71</td>\n",
       "      <td>Espólio</td>\n",
       "      <td>Não informado</td>\n",
       "      <td>2.0</td>\n",
       "      <td>2.0</td>\n",
       "      <td>0</td>\n",
       "      <td>0</td>\n",
       "      <td>0</td>\n",
       "      <td>0</td>\n",
       "    </tr>\n",
       "    <tr>\n",
       "      <th>671</th>\n",
       "      <td>Tributo-Outros</td>\n",
       "      <td>N</td>\n",
       "      <td>0.0</td>\n",
       "      <td>N</td>\n",
       "      <td>N</td>\n",
       "      <td>N</td>\n",
       "      <td>12.0</td>\n",
       "      <td>1</td>\n",
       "      <td>0</td>\n",
       "      <td>2018.0</td>\n",
       "      <td>67</td>\n",
       "      <td>Proprietário de empr. ou firma indiv. ou empre...</td>\n",
       "      <td>Dirigente, pres., diretor emp. indust., com. o...</td>\n",
       "      <td>4.0</td>\n",
       "      <td>2.0</td>\n",
       "      <td>1</td>\n",
       "      <td>0</td>\n",
       "      <td>0</td>\n",
       "      <td>0</td>\n",
       "    </tr>\n",
       "    <tr>\n",
       "      <th>1859</th>\n",
       "      <td>Tributo-IRPF</td>\n",
       "      <td>N</td>\n",
       "      <td>0.0</td>\n",
       "      <td>N</td>\n",
       "      <td>N</td>\n",
       "      <td>N</td>\n",
       "      <td>16.0</td>\n",
       "      <td>1</td>\n",
       "      <td>0</td>\n",
       "      <td>2018.0</td>\n",
       "      <td>78</td>\n",
       "      <td>Servidor público de autarquia ou fundação esta...</td>\n",
       "      <td>Servidor das demais carreiras da admin. públic...</td>\n",
       "      <td>4.0</td>\n",
       "      <td>3.0</td>\n",
       "      <td>0</td>\n",
       "      <td>0</td>\n",
       "      <td>0</td>\n",
       "      <td>0</td>\n",
       "    </tr>\n",
       "    <tr>\n",
       "      <th>2727</th>\n",
       "      <td>Tributo-IRPF</td>\n",
       "      <td>N</td>\n",
       "      <td>0.0</td>\n",
       "      <td>S</td>\n",
       "      <td>N</td>\n",
       "      <td>N</td>\n",
       "      <td>0.0</td>\n",
       "      <td>1</td>\n",
       "      <td>0</td>\n",
       "      <td>2018.0</td>\n",
       "      <td>31</td>\n",
       "      <td>Empregado de empresa setor privado, exceto ins...</td>\n",
       "      <td>Médico</td>\n",
       "      <td>2.0</td>\n",
       "      <td>2.0</td>\n",
       "      <td>0</td>\n",
       "      <td>0</td>\n",
       "      <td>0</td>\n",
       "      <td>1</td>\n",
       "    </tr>\n",
       "  </tbody>\n",
       "</table>\n",
       "</div>"
      ],
      "text/plain": [
       "              Tributo PF1  PF2 PF3 PF4 PF5  Horas Trabalhadas  Faixa Autuado  \\\n",
       "Linha                                                                          \n",
       "78       Tributo-IRPF   N  0.0   N   N   N               24.0              1   \n",
       "192      Tributo-IRPF   N  0.0   N   N   N                8.0              1   \n",
       "671    Tributo-Outros   N  0.0   N   N   N               12.0              1   \n",
       "1859     Tributo-IRPF   N  0.0   N   N   N               16.0              1   \n",
       "2727     Tributo-IRPF   N  0.0   S   N   N                0.0              1   \n",
       "\n",
       "       Variacao Arrecadacao  Ano Declaracao  Idade Declarante  \\\n",
       "Linha                                                           \n",
       "78                        0          2018.0                39   \n",
       "192                       0          2018.0                71   \n",
       "671                       0          2018.0                67   \n",
       "1859                      0          2018.0                78   \n",
       "2727                      0          2018.0                31   \n",
       "\n",
       "                                      Nat Ocup Principal  \\\n",
       "Linha                                                      \n",
       "78     Natureza da ocupação não especificada anterior...   \n",
       "192                                              Espólio   \n",
       "671    Proprietário de empr. ou firma indiv. ou empre...   \n",
       "1859   Servidor público de autarquia ou fundação esta...   \n",
       "2727   Empregado de empresa setor privado, exceto ins...   \n",
       "\n",
       "                                          Ocup Principal  Faixa Patrimonio  \\\n",
       "Linha                                                                        \n",
       "78      Outras ocupações não especificadas anteriormente               4.0   \n",
       "192                                        Não informado               2.0   \n",
       "671    Dirigente, pres., diretor emp. indust., com. o...               4.0   \n",
       "1859   Servidor das demais carreiras da admin. públic...               4.0   \n",
       "2727                                              Médico               2.0   \n",
       "\n",
       "       Faixa Renda  Dm_Tributo-Outros  Dm_Tributo-Previdência  Le_PF1  Le_PF3  \n",
       "Linha                                                                          \n",
       "78             1.0                  0                       0       0       0  \n",
       "192            2.0                  0                       0       0       0  \n",
       "671            2.0                  1                       0       0       0  \n",
       "1859           3.0                  0                       0       0       0  \n",
       "2727           2.0                  0                       0       0       1  "
      ]
     },
     "execution_count": 19,
     "metadata": {},
     "output_type": "execute_result"
    }
   ],
   "source": [
    "# Cria uma nova coluna [Le_PF3] com base na variável PF3 transformada em variável Label Encoder.\n",
    "le = LabelEncoder()\n",
    "df_fiscPF['Le_PF3'] = le.fit_transform(df_fiscPF['PF3'])\n",
    "df_fiscPF.head()"
   ]
  },
  {
   "cell_type": "markdown",
   "metadata": {},
   "source": [
    "### Transformando a variável PF4\n",
    "Retirando valores nulos e criando variáveis Label Encoder"
   ]
  },
  {
   "cell_type": "code",
   "execution_count": 20,
   "metadata": {},
   "outputs": [
    {
     "data": {
      "text/plain": [
       "array(['N', 'S'], dtype=object)"
      ]
     },
     "execution_count": 20,
     "metadata": {},
     "output_type": "execute_result"
    }
   ],
   "source": [
    "# Checando os valores existentes e se tem valores nulos\n",
    "df_fiscPF['PF4'].unique()"
   ]
  },
  {
   "cell_type": "code",
   "execution_count": 21,
   "metadata": {},
   "outputs": [
    {
     "data": {
      "text/plain": [
       "N    2398\n",
       "S     781\n",
       "Name: PF4, dtype: int64"
      ]
     },
     "execution_count": 21,
     "metadata": {},
     "output_type": "execute_result"
    }
   ],
   "source": [
    "# Verificando a quantidade de cada valor\n",
    "df_fiscPF['PF4'].value_counts()"
   ]
  },
  {
   "cell_type": "code",
   "execution_count": 22,
   "metadata": {},
   "outputs": [
    {
     "data": {
      "text/html": [
       "<div>\n",
       "<style scoped>\n",
       "    .dataframe tbody tr th:only-of-type {\n",
       "        vertical-align: middle;\n",
       "    }\n",
       "\n",
       "    .dataframe tbody tr th {\n",
       "        vertical-align: top;\n",
       "    }\n",
       "\n",
       "    .dataframe thead th {\n",
       "        text-align: right;\n",
       "    }\n",
       "</style>\n",
       "<table border=\"1\" class=\"dataframe\">\n",
       "  <thead>\n",
       "    <tr style=\"text-align: right;\">\n",
       "      <th></th>\n",
       "      <th>Tributo</th>\n",
       "      <th>PF1</th>\n",
       "      <th>PF2</th>\n",
       "      <th>PF3</th>\n",
       "      <th>PF4</th>\n",
       "      <th>PF5</th>\n",
       "      <th>Horas Trabalhadas</th>\n",
       "      <th>Faixa Autuado</th>\n",
       "      <th>Variacao Arrecadacao</th>\n",
       "      <th>Ano Declaracao</th>\n",
       "      <th>Idade Declarante</th>\n",
       "      <th>Nat Ocup Principal</th>\n",
       "      <th>Ocup Principal</th>\n",
       "      <th>Faixa Patrimonio</th>\n",
       "      <th>Faixa Renda</th>\n",
       "      <th>Dm_Tributo-Outros</th>\n",
       "      <th>Dm_Tributo-Previdência</th>\n",
       "      <th>Le_PF1</th>\n",
       "      <th>Le_PF3</th>\n",
       "      <th>Le_PF4</th>\n",
       "    </tr>\n",
       "    <tr>\n",
       "      <th>Linha</th>\n",
       "      <th></th>\n",
       "      <th></th>\n",
       "      <th></th>\n",
       "      <th></th>\n",
       "      <th></th>\n",
       "      <th></th>\n",
       "      <th></th>\n",
       "      <th></th>\n",
       "      <th></th>\n",
       "      <th></th>\n",
       "      <th></th>\n",
       "      <th></th>\n",
       "      <th></th>\n",
       "      <th></th>\n",
       "      <th></th>\n",
       "      <th></th>\n",
       "      <th></th>\n",
       "      <th></th>\n",
       "      <th></th>\n",
       "      <th></th>\n",
       "    </tr>\n",
       "  </thead>\n",
       "  <tbody>\n",
       "    <tr>\n",
       "      <th>78</th>\n",
       "      <td>Tributo-IRPF</td>\n",
       "      <td>N</td>\n",
       "      <td>0.0</td>\n",
       "      <td>N</td>\n",
       "      <td>N</td>\n",
       "      <td>N</td>\n",
       "      <td>24.0</td>\n",
       "      <td>1</td>\n",
       "      <td>0</td>\n",
       "      <td>2018.0</td>\n",
       "      <td>39</td>\n",
       "      <td>Natureza da ocupação não especificada anterior...</td>\n",
       "      <td>Outras ocupações não especificadas anteriormente</td>\n",
       "      <td>4.0</td>\n",
       "      <td>1.0</td>\n",
       "      <td>0</td>\n",
       "      <td>0</td>\n",
       "      <td>0</td>\n",
       "      <td>0</td>\n",
       "      <td>0</td>\n",
       "    </tr>\n",
       "    <tr>\n",
       "      <th>192</th>\n",
       "      <td>Tributo-IRPF</td>\n",
       "      <td>N</td>\n",
       "      <td>0.0</td>\n",
       "      <td>N</td>\n",
       "      <td>N</td>\n",
       "      <td>N</td>\n",
       "      <td>8.0</td>\n",
       "      <td>1</td>\n",
       "      <td>0</td>\n",
       "      <td>2018.0</td>\n",
       "      <td>71</td>\n",
       "      <td>Espólio</td>\n",
       "      <td>Não informado</td>\n",
       "      <td>2.0</td>\n",
       "      <td>2.0</td>\n",
       "      <td>0</td>\n",
       "      <td>0</td>\n",
       "      <td>0</td>\n",
       "      <td>0</td>\n",
       "      <td>0</td>\n",
       "    </tr>\n",
       "    <tr>\n",
       "      <th>671</th>\n",
       "      <td>Tributo-Outros</td>\n",
       "      <td>N</td>\n",
       "      <td>0.0</td>\n",
       "      <td>N</td>\n",
       "      <td>N</td>\n",
       "      <td>N</td>\n",
       "      <td>12.0</td>\n",
       "      <td>1</td>\n",
       "      <td>0</td>\n",
       "      <td>2018.0</td>\n",
       "      <td>67</td>\n",
       "      <td>Proprietário de empr. ou firma indiv. ou empre...</td>\n",
       "      <td>Dirigente, pres., diretor emp. indust., com. o...</td>\n",
       "      <td>4.0</td>\n",
       "      <td>2.0</td>\n",
       "      <td>1</td>\n",
       "      <td>0</td>\n",
       "      <td>0</td>\n",
       "      <td>0</td>\n",
       "      <td>0</td>\n",
       "    </tr>\n",
       "    <tr>\n",
       "      <th>1859</th>\n",
       "      <td>Tributo-IRPF</td>\n",
       "      <td>N</td>\n",
       "      <td>0.0</td>\n",
       "      <td>N</td>\n",
       "      <td>N</td>\n",
       "      <td>N</td>\n",
       "      <td>16.0</td>\n",
       "      <td>1</td>\n",
       "      <td>0</td>\n",
       "      <td>2018.0</td>\n",
       "      <td>78</td>\n",
       "      <td>Servidor público de autarquia ou fundação esta...</td>\n",
       "      <td>Servidor das demais carreiras da admin. públic...</td>\n",
       "      <td>4.0</td>\n",
       "      <td>3.0</td>\n",
       "      <td>0</td>\n",
       "      <td>0</td>\n",
       "      <td>0</td>\n",
       "      <td>0</td>\n",
       "      <td>0</td>\n",
       "    </tr>\n",
       "    <tr>\n",
       "      <th>2727</th>\n",
       "      <td>Tributo-IRPF</td>\n",
       "      <td>N</td>\n",
       "      <td>0.0</td>\n",
       "      <td>S</td>\n",
       "      <td>N</td>\n",
       "      <td>N</td>\n",
       "      <td>0.0</td>\n",
       "      <td>1</td>\n",
       "      <td>0</td>\n",
       "      <td>2018.0</td>\n",
       "      <td>31</td>\n",
       "      <td>Empregado de empresa setor privado, exceto ins...</td>\n",
       "      <td>Médico</td>\n",
       "      <td>2.0</td>\n",
       "      <td>2.0</td>\n",
       "      <td>0</td>\n",
       "      <td>0</td>\n",
       "      <td>0</td>\n",
       "      <td>1</td>\n",
       "      <td>0</td>\n",
       "    </tr>\n",
       "  </tbody>\n",
       "</table>\n",
       "</div>"
      ],
      "text/plain": [
       "              Tributo PF1  PF2 PF3 PF4 PF5  Horas Trabalhadas  Faixa Autuado  \\\n",
       "Linha                                                                          \n",
       "78       Tributo-IRPF   N  0.0   N   N   N               24.0              1   \n",
       "192      Tributo-IRPF   N  0.0   N   N   N                8.0              1   \n",
       "671    Tributo-Outros   N  0.0   N   N   N               12.0              1   \n",
       "1859     Tributo-IRPF   N  0.0   N   N   N               16.0              1   \n",
       "2727     Tributo-IRPF   N  0.0   S   N   N                0.0              1   \n",
       "\n",
       "       Variacao Arrecadacao  Ano Declaracao  Idade Declarante  \\\n",
       "Linha                                                           \n",
       "78                        0          2018.0                39   \n",
       "192                       0          2018.0                71   \n",
       "671                       0          2018.0                67   \n",
       "1859                      0          2018.0                78   \n",
       "2727                      0          2018.0                31   \n",
       "\n",
       "                                      Nat Ocup Principal  \\\n",
       "Linha                                                      \n",
       "78     Natureza da ocupação não especificada anterior...   \n",
       "192                                              Espólio   \n",
       "671    Proprietário de empr. ou firma indiv. ou empre...   \n",
       "1859   Servidor público de autarquia ou fundação esta...   \n",
       "2727   Empregado de empresa setor privado, exceto ins...   \n",
       "\n",
       "                                          Ocup Principal  Faixa Patrimonio  \\\n",
       "Linha                                                                        \n",
       "78      Outras ocupações não especificadas anteriormente               4.0   \n",
       "192                                        Não informado               2.0   \n",
       "671    Dirigente, pres., diretor emp. indust., com. o...               4.0   \n",
       "1859   Servidor das demais carreiras da admin. públic...               4.0   \n",
       "2727                                              Médico               2.0   \n",
       "\n",
       "       Faixa Renda  Dm_Tributo-Outros  Dm_Tributo-Previdência  Le_PF1  Le_PF3  \\\n",
       "Linha                                                                           \n",
       "78             1.0                  0                       0       0       0   \n",
       "192            2.0                  0                       0       0       0   \n",
       "671            2.0                  1                       0       0       0   \n",
       "1859           3.0                  0                       0       0       0   \n",
       "2727           2.0                  0                       0       0       1   \n",
       "\n",
       "       Le_PF4  \n",
       "Linha          \n",
       "78          0  \n",
       "192         0  \n",
       "671         0  \n",
       "1859        0  \n",
       "2727        0  "
      ]
     },
     "execution_count": 22,
     "metadata": {},
     "output_type": "execute_result"
    }
   ],
   "source": [
    "# Cria uma nova coluna [Le_PF4] com base na variável PF4 transformada em variável Label Encoder.\n",
    "le = LabelEncoder()\n",
    "df_fiscPF['Le_PF4'] = le.fit_transform(df_fiscPF['PF4'])\n",
    "df_fiscPF.head()"
   ]
  },
  {
   "cell_type": "markdown",
   "metadata": {},
   "source": [
    "### Transformando a variável PF5\n",
    "Retirando valores nulos e criando variáveis Label Encoder"
   ]
  },
  {
   "cell_type": "code",
   "execution_count": 23,
   "metadata": {},
   "outputs": [
    {
     "data": {
      "text/plain": [
       "array(['N', 'S'], dtype=object)"
      ]
     },
     "execution_count": 23,
     "metadata": {},
     "output_type": "execute_result"
    }
   ],
   "source": [
    "# Checando os valores existentes e se tem valores nulos\n",
    "df_fiscPF['PF5'].unique()"
   ]
  },
  {
   "cell_type": "code",
   "execution_count": 24,
   "metadata": {},
   "outputs": [
    {
     "data": {
      "text/plain": [
       "N    2871\n",
       "S     308\n",
       "Name: PF5, dtype: int64"
      ]
     },
     "execution_count": 24,
     "metadata": {},
     "output_type": "execute_result"
    }
   ],
   "source": [
    "# Verificando a quantidade de cada valor\n",
    "df_fiscPF['PF5'].value_counts()"
   ]
  },
  {
   "cell_type": "code",
   "execution_count": 25,
   "metadata": {},
   "outputs": [
    {
     "data": {
      "text/html": [
       "<div>\n",
       "<style scoped>\n",
       "    .dataframe tbody tr th:only-of-type {\n",
       "        vertical-align: middle;\n",
       "    }\n",
       "\n",
       "    .dataframe tbody tr th {\n",
       "        vertical-align: top;\n",
       "    }\n",
       "\n",
       "    .dataframe thead th {\n",
       "        text-align: right;\n",
       "    }\n",
       "</style>\n",
       "<table border=\"1\" class=\"dataframe\">\n",
       "  <thead>\n",
       "    <tr style=\"text-align: right;\">\n",
       "      <th></th>\n",
       "      <th>Tributo</th>\n",
       "      <th>PF1</th>\n",
       "      <th>PF2</th>\n",
       "      <th>PF3</th>\n",
       "      <th>PF4</th>\n",
       "      <th>PF5</th>\n",
       "      <th>Horas Trabalhadas</th>\n",
       "      <th>Faixa Autuado</th>\n",
       "      <th>Variacao Arrecadacao</th>\n",
       "      <th>Ano Declaracao</th>\n",
       "      <th>...</th>\n",
       "      <th>Nat Ocup Principal</th>\n",
       "      <th>Ocup Principal</th>\n",
       "      <th>Faixa Patrimonio</th>\n",
       "      <th>Faixa Renda</th>\n",
       "      <th>Dm_Tributo-Outros</th>\n",
       "      <th>Dm_Tributo-Previdência</th>\n",
       "      <th>Le_PF1</th>\n",
       "      <th>Le_PF3</th>\n",
       "      <th>Le_PF4</th>\n",
       "      <th>Le_PF5</th>\n",
       "    </tr>\n",
       "    <tr>\n",
       "      <th>Linha</th>\n",
       "      <th></th>\n",
       "      <th></th>\n",
       "      <th></th>\n",
       "      <th></th>\n",
       "      <th></th>\n",
       "      <th></th>\n",
       "      <th></th>\n",
       "      <th></th>\n",
       "      <th></th>\n",
       "      <th></th>\n",
       "      <th></th>\n",
       "      <th></th>\n",
       "      <th></th>\n",
       "      <th></th>\n",
       "      <th></th>\n",
       "      <th></th>\n",
       "      <th></th>\n",
       "      <th></th>\n",
       "      <th></th>\n",
       "      <th></th>\n",
       "      <th></th>\n",
       "    </tr>\n",
       "  </thead>\n",
       "  <tbody>\n",
       "    <tr>\n",
       "      <th>78</th>\n",
       "      <td>Tributo-IRPF</td>\n",
       "      <td>N</td>\n",
       "      <td>0.0</td>\n",
       "      <td>N</td>\n",
       "      <td>N</td>\n",
       "      <td>N</td>\n",
       "      <td>24.0</td>\n",
       "      <td>1</td>\n",
       "      <td>0</td>\n",
       "      <td>2018.0</td>\n",
       "      <td>...</td>\n",
       "      <td>Natureza da ocupação não especificada anterior...</td>\n",
       "      <td>Outras ocupações não especificadas anteriormente</td>\n",
       "      <td>4.0</td>\n",
       "      <td>1.0</td>\n",
       "      <td>0</td>\n",
       "      <td>0</td>\n",
       "      <td>0</td>\n",
       "      <td>0</td>\n",
       "      <td>0</td>\n",
       "      <td>0</td>\n",
       "    </tr>\n",
       "    <tr>\n",
       "      <th>192</th>\n",
       "      <td>Tributo-IRPF</td>\n",
       "      <td>N</td>\n",
       "      <td>0.0</td>\n",
       "      <td>N</td>\n",
       "      <td>N</td>\n",
       "      <td>N</td>\n",
       "      <td>8.0</td>\n",
       "      <td>1</td>\n",
       "      <td>0</td>\n",
       "      <td>2018.0</td>\n",
       "      <td>...</td>\n",
       "      <td>Espólio</td>\n",
       "      <td>Não informado</td>\n",
       "      <td>2.0</td>\n",
       "      <td>2.0</td>\n",
       "      <td>0</td>\n",
       "      <td>0</td>\n",
       "      <td>0</td>\n",
       "      <td>0</td>\n",
       "      <td>0</td>\n",
       "      <td>0</td>\n",
       "    </tr>\n",
       "    <tr>\n",
       "      <th>671</th>\n",
       "      <td>Tributo-Outros</td>\n",
       "      <td>N</td>\n",
       "      <td>0.0</td>\n",
       "      <td>N</td>\n",
       "      <td>N</td>\n",
       "      <td>N</td>\n",
       "      <td>12.0</td>\n",
       "      <td>1</td>\n",
       "      <td>0</td>\n",
       "      <td>2018.0</td>\n",
       "      <td>...</td>\n",
       "      <td>Proprietário de empr. ou firma indiv. ou empre...</td>\n",
       "      <td>Dirigente, pres., diretor emp. indust., com. o...</td>\n",
       "      <td>4.0</td>\n",
       "      <td>2.0</td>\n",
       "      <td>1</td>\n",
       "      <td>0</td>\n",
       "      <td>0</td>\n",
       "      <td>0</td>\n",
       "      <td>0</td>\n",
       "      <td>0</td>\n",
       "    </tr>\n",
       "    <tr>\n",
       "      <th>1859</th>\n",
       "      <td>Tributo-IRPF</td>\n",
       "      <td>N</td>\n",
       "      <td>0.0</td>\n",
       "      <td>N</td>\n",
       "      <td>N</td>\n",
       "      <td>N</td>\n",
       "      <td>16.0</td>\n",
       "      <td>1</td>\n",
       "      <td>0</td>\n",
       "      <td>2018.0</td>\n",
       "      <td>...</td>\n",
       "      <td>Servidor público de autarquia ou fundação esta...</td>\n",
       "      <td>Servidor das demais carreiras da admin. públic...</td>\n",
       "      <td>4.0</td>\n",
       "      <td>3.0</td>\n",
       "      <td>0</td>\n",
       "      <td>0</td>\n",
       "      <td>0</td>\n",
       "      <td>0</td>\n",
       "      <td>0</td>\n",
       "      <td>0</td>\n",
       "    </tr>\n",
       "    <tr>\n",
       "      <th>2727</th>\n",
       "      <td>Tributo-IRPF</td>\n",
       "      <td>N</td>\n",
       "      <td>0.0</td>\n",
       "      <td>S</td>\n",
       "      <td>N</td>\n",
       "      <td>N</td>\n",
       "      <td>0.0</td>\n",
       "      <td>1</td>\n",
       "      <td>0</td>\n",
       "      <td>2018.0</td>\n",
       "      <td>...</td>\n",
       "      <td>Empregado de empresa setor privado, exceto ins...</td>\n",
       "      <td>Médico</td>\n",
       "      <td>2.0</td>\n",
       "      <td>2.0</td>\n",
       "      <td>0</td>\n",
       "      <td>0</td>\n",
       "      <td>0</td>\n",
       "      <td>1</td>\n",
       "      <td>0</td>\n",
       "      <td>0</td>\n",
       "    </tr>\n",
       "  </tbody>\n",
       "</table>\n",
       "<p>5 rows × 21 columns</p>\n",
       "</div>"
      ],
      "text/plain": [
       "              Tributo PF1  PF2 PF3 PF4 PF5  Horas Trabalhadas  Faixa Autuado  \\\n",
       "Linha                                                                          \n",
       "78       Tributo-IRPF   N  0.0   N   N   N               24.0              1   \n",
       "192      Tributo-IRPF   N  0.0   N   N   N                8.0              1   \n",
       "671    Tributo-Outros   N  0.0   N   N   N               12.0              1   \n",
       "1859     Tributo-IRPF   N  0.0   N   N   N               16.0              1   \n",
       "2727     Tributo-IRPF   N  0.0   S   N   N                0.0              1   \n",
       "\n",
       "       Variacao Arrecadacao  Ano Declaracao  ...  \\\n",
       "Linha                                        ...   \n",
       "78                        0          2018.0  ...   \n",
       "192                       0          2018.0  ...   \n",
       "671                       0          2018.0  ...   \n",
       "1859                      0          2018.0  ...   \n",
       "2727                      0          2018.0  ...   \n",
       "\n",
       "                                      Nat Ocup Principal  \\\n",
       "Linha                                                      \n",
       "78     Natureza da ocupação não especificada anterior...   \n",
       "192                                              Espólio   \n",
       "671    Proprietário de empr. ou firma indiv. ou empre...   \n",
       "1859   Servidor público de autarquia ou fundação esta...   \n",
       "2727   Empregado de empresa setor privado, exceto ins...   \n",
       "\n",
       "                                          Ocup Principal Faixa Patrimonio  \\\n",
       "Linha                                                                       \n",
       "78      Outras ocupações não especificadas anteriormente              4.0   \n",
       "192                                        Não informado              2.0   \n",
       "671    Dirigente, pres., diretor emp. indust., com. o...              4.0   \n",
       "1859   Servidor das demais carreiras da admin. públic...              4.0   \n",
       "2727                                              Médico              2.0   \n",
       "\n",
       "       Faixa Renda  Dm_Tributo-Outros  Dm_Tributo-Previdência  Le_PF1  Le_PF3  \\\n",
       "Linha                                                                           \n",
       "78             1.0                  0                       0       0       0   \n",
       "192            2.0                  0                       0       0       0   \n",
       "671            2.0                  1                       0       0       0   \n",
       "1859           3.0                  0                       0       0       0   \n",
       "2727           2.0                  0                       0       0       1   \n",
       "\n",
       "       Le_PF4  Le_PF5  \n",
       "Linha                  \n",
       "78          0       0  \n",
       "192         0       0  \n",
       "671         0       0  \n",
       "1859        0       0  \n",
       "2727        0       0  \n",
       "\n",
       "[5 rows x 21 columns]"
      ]
     },
     "execution_count": 25,
     "metadata": {},
     "output_type": "execute_result"
    }
   ],
   "source": [
    "# Cria uma nova coluna [Le_PF5] com base na variável PF5 transformada em variável Label Encoder.\n",
    "le = LabelEncoder()\n",
    "df_fiscPF['Le_PF5'] = le.fit_transform(df_fiscPF['PF5'])\n",
    "df_fiscPF.head()"
   ]
  },
  {
   "cell_type": "markdown",
   "metadata": {},
   "source": [
    "### Transformando a variável Ano Declaração\n",
    "Vamos criar uma variável Label Encoder, onde 1 representará os contribuintes que entregam declaração de renda e 0 os contribuintes que não entregam. Ou seja, os valores nulos serão transformados em valor 0."
   ]
  },
  {
   "cell_type": "code",
   "execution_count": 26,
   "metadata": {},
   "outputs": [
    {
     "data": {
      "text/plain": [
       "array([2018., 2017., 2015.,   nan, 2016., 2013., 2014., 2019., 2020.])"
      ]
     },
     "execution_count": 26,
     "metadata": {},
     "output_type": "execute_result"
    }
   ],
   "source": [
    "# Checando os valores existentes e se tem valores nulos\n",
    "df_fiscPF['Ano Declaracao'].unique()"
   ]
  },
  {
   "cell_type": "code",
   "execution_count": 27,
   "metadata": {},
   "outputs": [
    {
     "data": {
      "text/plain": [
       "111"
      ]
     },
     "execution_count": 27,
     "metadata": {},
     "output_type": "execute_result"
    }
   ],
   "source": [
    "# Contando quantos valores nulos\n",
    "df_fiscPF['Ano Declaracao'].isna().sum()"
   ]
  },
  {
   "cell_type": "code",
   "execution_count": 28,
   "metadata": {},
   "outputs": [
    {
     "data": {
      "text/plain": [
       "0"
      ]
     },
     "execution_count": 28,
     "metadata": {},
     "output_type": "execute_result"
    }
   ],
   "source": [
    "#Vamos transformar todos os valores nulos em zero, onde representam que não foi entregue declaração de Imposto de Renda.\n",
    "df_fiscPF['Ano Declaracao'] = df_fiscPF['Ano Declaracao'].fillna(0)\n",
    "df_fiscPF['Ano Declaracao'].isna().sum()"
   ]
  },
  {
   "cell_type": "code",
   "execution_count": 29,
   "metadata": {},
   "outputs": [
    {
     "data": {
      "text/plain": [
       "array([1, 0], dtype=int64)"
      ]
     },
     "execution_count": 29,
     "metadata": {},
     "output_type": "execute_result"
    }
   ],
   "source": [
    "#Vamos transformar todos os valores com anos preenchidos em 1, que representa que foi entregue\n",
    "#declaração de renda\n",
    "def Transforma(num):\n",
    "    if num > 0:\n",
    "       num = 1\n",
    "    return num    \n",
    "df_fiscPF['Declaracao'] = df_fiscPF['Ano Declaracao'].apply(lambda x: int(Transforma(x)))\n",
    "df_fiscPF['Declaracao'].unique()"
   ]
  },
  {
   "cell_type": "code",
   "execution_count": 30,
   "metadata": {},
   "outputs": [
    {
     "data": {
      "text/plain": [
       "1    3068\n",
       "0     111\n",
       "Name: Declaracao, dtype: int64"
      ]
     },
     "execution_count": 30,
     "metadata": {},
     "output_type": "execute_result"
    }
   ],
   "source": [
    "df_fiscPF['Declaracao'].value_counts()"
   ]
  },
  {
   "cell_type": "markdown",
   "metadata": {},
   "source": [
    "### Transformando a variável Nat Ocup Principal\n",
    "Retirando valores nulos e criando variáveis Label Encoder"
   ]
  },
  {
   "cell_type": "code",
   "execution_count": 31,
   "metadata": {},
   "outputs": [
    {
     "data": {
      "text/plain": [
       "111"
      ]
     },
     "execution_count": 31,
     "metadata": {},
     "output_type": "execute_result"
    }
   ],
   "source": [
    "# Contando quantos valores nulos\n",
    "df_fiscPF['Nat Ocup Principal'].isna().sum()"
   ]
  },
  {
   "cell_type": "code",
   "execution_count": 32,
   "metadata": {},
   "outputs": [],
   "source": [
    "# Para os missing values vamos criar a Natureza de Ocupação Principal \"Natureza da Ocupacao nao declarada\",\n",
    "# pois estes valores faltantes correspondem aos contribuintes que não fazem a declaração de IR.\n",
    "df_fiscPF['Nat Ocup Principal'] = df_fiscPF['Nat Ocup Principal'].fillna('Natureza da Ocupacao nao declarada')"
   ]
  },
  {
   "cell_type": "code",
   "execution_count": 33,
   "metadata": {},
   "outputs": [
    {
     "data": {
      "text/plain": [
       "Proprietário de empr. ou firma indiv. ou empregador-titular     1091\n",
       "Profissional liberal ou autônomo sem vínculo de emprego          692\n",
       "Empregado de empresa setor privado, exceto instit. financ.       297\n",
       "Natureza da ocupação não especificada anteriormente              258\n",
       "Aposentado, militar res. ou refor., pens. prev., exc. cd. 62     206\n",
       "Natureza da Ocupacao nao declarada                               111\n",
       "Membro ou servidor público da admin. direta estadual e do DF      89\n",
       "Espólio                                                           63\n",
       "Membro ou servidor público da administração direta federal        53\n",
       "Membro ou servidor público da administração direta municipal      44\n",
       "Servidor público de autarquia ou fundação federal                 38\n",
       "Servidor público de autarquia ou fundação estadual e do DF        37\n",
       "Capitalista que auferiu rendim. de capital, inclus. aluguéis      37\n",
       "Empregado de instituições financeiras públicas e privadas         32\n",
       "Aposentado, militar refor. ou pens. prev. com moléstia grave      30\n",
       "Militar                                                           21\n",
       "Beneficiário de pensão alimentícia                                21\n",
       "Servidor público de autarquia ou fundação municipal               17\n",
       "Empregado empr. púb. ou ec. mista est. e DF, exc. inst. fin.      10\n",
       "Empregado de empr. púb. ou soc. de economia mista municipal       10\n",
       "Empregado empr. púb. ou econ. mista fed., exc. inst. financ.      10\n",
       "Microempreendedor Individual - MEI                                 6\n",
       "Empregado ou contratado de organismo internacional ou de ONG       4\n",
       "Bolsista                                                           2\n",
       "Name: Nat Ocup Principal, dtype: int64"
      ]
     },
     "execution_count": 33,
     "metadata": {},
     "output_type": "execute_result"
    }
   ],
   "source": [
    "# Verificando a quantidade de cada valor\n",
    "df_fiscPF['Nat Ocup Principal'].value_counts()"
   ]
  },
  {
   "cell_type": "markdown",
   "metadata": {},
   "source": [
    "Como temos várias Naturezas de Ocupação Principal com baixa frequência, vamos agrupar estes valores."
   ]
  },
  {
   "cell_type": "code",
   "execution_count": 34,
   "metadata": {},
   "outputs": [],
   "source": [
    "# Vamos transformar todas as Naturezas de Ocupação Principal que envolvem servidores públicos em \"Servidor Publico\". \n",
    "# E, as Naturezas de Ocupação Principal que possuem menos de 60 valores serão transformadas em \"Outras Naturezas\"\n",
    "df_fiscPF['Natureza agrupada'] = df_fiscPF['Nat Ocup Principal'].replace({\n",
    "    'Membro ou servidor público da admin. direta estadual e do DF':'Servidor Publico',\n",
    "    'Servidor público de autarquia ou fundação estadual e do DF':'Servidor Publico',\n",
    "    'Membro ou servidor público da administração direta federal':'Servidor Publico',\n",
    "    'Membro ou servidor público da administração direta municipal':'Servidor Publico',\n",
    "    'Servidor público de autarquia ou fundação federal':'Servidor Publico',\n",
    "    'Servidor público de autarquia ou fundação municipal':'Servidor Publico',\n",
    "    'Capitalista que auferiu rendim. de capital, inclus. aluguéis':'Servidor Publico',\n",
    "    'Empregado de instituições financeiras públicas e privadas':'Servidor Publico',\n",
    "    'Aposentado, militar refor. ou pens. prev. com moléstia grave':'Outras Naturezas',\n",
    "    'Beneficiário de pensão alimentícia':'Outras Naturezas',\n",
    "    'Militar':'Outras Naturezas',\n",
    "    'Empregado de empr. púb. ou soc. de economia mista municipal':'Outras Naturezas',\n",
    "    'Empregado empr. púb. ou ec. mista est. e DF, exc. inst. fin.':'Outras Naturezas',\n",
    "    'Empregado empr. púb. ou econ. mista fed., exc. inst. financ.':'Outras Naturezas',\n",
    "    'Microempreendedor Individual - MEI':'Outras Naturezas',\n",
    "    'Empregado ou contratado de organismo internacional ou de ONG':'Outras Naturezas',\n",
    "    'Bolsista':'Outras Naturezas'})"
   ]
  },
  {
   "cell_type": "code",
   "execution_count": 35,
   "metadata": {},
   "outputs": [
    {
     "data": {
      "text/plain": [
       "Proprietário de empr. ou firma indiv. ou empregador-titular     1091\n",
       "Profissional liberal ou autônomo sem vínculo de emprego          692\n",
       "Servidor Publico                                                 347\n",
       "Empregado de empresa setor privado, exceto instit. financ.       297\n",
       "Natureza da ocupação não especificada anteriormente              258\n",
       "Aposentado, militar res. ou refor., pens. prev., exc. cd. 62     206\n",
       "Outras Naturezas                                                 114\n",
       "Natureza da Ocupacao nao declarada                               111\n",
       "Espólio                                                           63\n",
       "Name: Natureza agrupada, dtype: int64"
      ]
     },
     "execution_count": 35,
     "metadata": {},
     "output_type": "execute_result"
    }
   ],
   "source": [
    "# Verificando a quantidade de cada valor\n",
    "df_fiscPF['Natureza agrupada'].value_counts()"
   ]
  },
  {
   "cell_type": "code",
   "execution_count": 36,
   "metadata": {},
   "outputs": [
    {
     "data": {
      "text/html": [
       "<div>\n",
       "<style scoped>\n",
       "    .dataframe tbody tr th:only-of-type {\n",
       "        vertical-align: middle;\n",
       "    }\n",
       "\n",
       "    .dataframe tbody tr th {\n",
       "        vertical-align: top;\n",
       "    }\n",
       "\n",
       "    .dataframe thead th {\n",
       "        text-align: right;\n",
       "    }\n",
       "</style>\n",
       "<table border=\"1\" class=\"dataframe\">\n",
       "  <thead>\n",
       "    <tr style=\"text-align: right;\">\n",
       "      <th></th>\n",
       "      <th>Tributo</th>\n",
       "      <th>PF1</th>\n",
       "      <th>PF2</th>\n",
       "      <th>PF3</th>\n",
       "      <th>PF4</th>\n",
       "      <th>PF5</th>\n",
       "      <th>Horas Trabalhadas</th>\n",
       "      <th>Faixa Autuado</th>\n",
       "      <th>Variacao Arrecadacao</th>\n",
       "      <th>Ano Declaracao</th>\n",
       "      <th>...</th>\n",
       "      <th>Faixa Renda</th>\n",
       "      <th>Dm_Tributo-Outros</th>\n",
       "      <th>Dm_Tributo-Previdência</th>\n",
       "      <th>Le_PF1</th>\n",
       "      <th>Le_PF3</th>\n",
       "      <th>Le_PF4</th>\n",
       "      <th>Le_PF5</th>\n",
       "      <th>Declaracao</th>\n",
       "      <th>Natureza agrupada</th>\n",
       "      <th>Le_Nat_Ocup_Principal</th>\n",
       "    </tr>\n",
       "    <tr>\n",
       "      <th>Linha</th>\n",
       "      <th></th>\n",
       "      <th></th>\n",
       "      <th></th>\n",
       "      <th></th>\n",
       "      <th></th>\n",
       "      <th></th>\n",
       "      <th></th>\n",
       "      <th></th>\n",
       "      <th></th>\n",
       "      <th></th>\n",
       "      <th></th>\n",
       "      <th></th>\n",
       "      <th></th>\n",
       "      <th></th>\n",
       "      <th></th>\n",
       "      <th></th>\n",
       "      <th></th>\n",
       "      <th></th>\n",
       "      <th></th>\n",
       "      <th></th>\n",
       "      <th></th>\n",
       "    </tr>\n",
       "  </thead>\n",
       "  <tbody>\n",
       "    <tr>\n",
       "      <th>78</th>\n",
       "      <td>Tributo-IRPF</td>\n",
       "      <td>N</td>\n",
       "      <td>0.0</td>\n",
       "      <td>N</td>\n",
       "      <td>N</td>\n",
       "      <td>N</td>\n",
       "      <td>24.0</td>\n",
       "      <td>1</td>\n",
       "      <td>0</td>\n",
       "      <td>2018.0</td>\n",
       "      <td>...</td>\n",
       "      <td>1.0</td>\n",
       "      <td>0</td>\n",
       "      <td>0</td>\n",
       "      <td>0</td>\n",
       "      <td>0</td>\n",
       "      <td>0</td>\n",
       "      <td>0</td>\n",
       "      <td>1</td>\n",
       "      <td>Natureza da ocupação não especificada anterior...</td>\n",
       "      <td>4</td>\n",
       "    </tr>\n",
       "    <tr>\n",
       "      <th>192</th>\n",
       "      <td>Tributo-IRPF</td>\n",
       "      <td>N</td>\n",
       "      <td>0.0</td>\n",
       "      <td>N</td>\n",
       "      <td>N</td>\n",
       "      <td>N</td>\n",
       "      <td>8.0</td>\n",
       "      <td>1</td>\n",
       "      <td>0</td>\n",
       "      <td>2018.0</td>\n",
       "      <td>...</td>\n",
       "      <td>2.0</td>\n",
       "      <td>0</td>\n",
       "      <td>0</td>\n",
       "      <td>0</td>\n",
       "      <td>0</td>\n",
       "      <td>0</td>\n",
       "      <td>0</td>\n",
       "      <td>1</td>\n",
       "      <td>Espólio</td>\n",
       "      <td>2</td>\n",
       "    </tr>\n",
       "    <tr>\n",
       "      <th>671</th>\n",
       "      <td>Tributo-Outros</td>\n",
       "      <td>N</td>\n",
       "      <td>0.0</td>\n",
       "      <td>N</td>\n",
       "      <td>N</td>\n",
       "      <td>N</td>\n",
       "      <td>12.0</td>\n",
       "      <td>1</td>\n",
       "      <td>0</td>\n",
       "      <td>2018.0</td>\n",
       "      <td>...</td>\n",
       "      <td>2.0</td>\n",
       "      <td>1</td>\n",
       "      <td>0</td>\n",
       "      <td>0</td>\n",
       "      <td>0</td>\n",
       "      <td>0</td>\n",
       "      <td>0</td>\n",
       "      <td>1</td>\n",
       "      <td>Proprietário de empr. ou firma indiv. ou empre...</td>\n",
       "      <td>7</td>\n",
       "    </tr>\n",
       "    <tr>\n",
       "      <th>1859</th>\n",
       "      <td>Tributo-IRPF</td>\n",
       "      <td>N</td>\n",
       "      <td>0.0</td>\n",
       "      <td>N</td>\n",
       "      <td>N</td>\n",
       "      <td>N</td>\n",
       "      <td>16.0</td>\n",
       "      <td>1</td>\n",
       "      <td>0</td>\n",
       "      <td>2018.0</td>\n",
       "      <td>...</td>\n",
       "      <td>3.0</td>\n",
       "      <td>0</td>\n",
       "      <td>0</td>\n",
       "      <td>0</td>\n",
       "      <td>0</td>\n",
       "      <td>0</td>\n",
       "      <td>0</td>\n",
       "      <td>1</td>\n",
       "      <td>Servidor Publico</td>\n",
       "      <td>8</td>\n",
       "    </tr>\n",
       "    <tr>\n",
       "      <th>2727</th>\n",
       "      <td>Tributo-IRPF</td>\n",
       "      <td>N</td>\n",
       "      <td>0.0</td>\n",
       "      <td>S</td>\n",
       "      <td>N</td>\n",
       "      <td>N</td>\n",
       "      <td>0.0</td>\n",
       "      <td>1</td>\n",
       "      <td>0</td>\n",
       "      <td>2018.0</td>\n",
       "      <td>...</td>\n",
       "      <td>2.0</td>\n",
       "      <td>0</td>\n",
       "      <td>0</td>\n",
       "      <td>0</td>\n",
       "      <td>1</td>\n",
       "      <td>0</td>\n",
       "      <td>0</td>\n",
       "      <td>1</td>\n",
       "      <td>Empregado de empresa setor privado, exceto ins...</td>\n",
       "      <td>1</td>\n",
       "    </tr>\n",
       "  </tbody>\n",
       "</table>\n",
       "<p>5 rows × 24 columns</p>\n",
       "</div>"
      ],
      "text/plain": [
       "              Tributo PF1  PF2 PF3 PF4 PF5  Horas Trabalhadas  Faixa Autuado  \\\n",
       "Linha                                                                          \n",
       "78       Tributo-IRPF   N  0.0   N   N   N               24.0              1   \n",
       "192      Tributo-IRPF   N  0.0   N   N   N                8.0              1   \n",
       "671    Tributo-Outros   N  0.0   N   N   N               12.0              1   \n",
       "1859     Tributo-IRPF   N  0.0   N   N   N               16.0              1   \n",
       "2727     Tributo-IRPF   N  0.0   S   N   N                0.0              1   \n",
       "\n",
       "       Variacao Arrecadacao  Ano Declaracao  ...  Faixa Renda  \\\n",
       "Linha                                        ...                \n",
       "78                        0          2018.0  ...          1.0   \n",
       "192                       0          2018.0  ...          2.0   \n",
       "671                       0          2018.0  ...          2.0   \n",
       "1859                      0          2018.0  ...          3.0   \n",
       "2727                      0          2018.0  ...          2.0   \n",
       "\n",
       "      Dm_Tributo-Outros Dm_Tributo-Previdência  Le_PF1  Le_PF3  Le_PF4  \\\n",
       "Linha                                                                    \n",
       "78                    0                      0       0       0       0   \n",
       "192                   0                      0       0       0       0   \n",
       "671                   1                      0       0       0       0   \n",
       "1859                  0                      0       0       0       0   \n",
       "2727                  0                      0       0       1       0   \n",
       "\n",
       "       Le_PF5  Declaracao                                  Natureza agrupada  \\\n",
       "Linha                                                                          \n",
       "78          0           1  Natureza da ocupação não especificada anterior...   \n",
       "192         0           1                                            Espólio   \n",
       "671         0           1  Proprietário de empr. ou firma indiv. ou empre...   \n",
       "1859        0           1                                   Servidor Publico   \n",
       "2727        0           1  Empregado de empresa setor privado, exceto ins...   \n",
       "\n",
       "       Le_Nat_Ocup_Principal  \n",
       "Linha                         \n",
       "78                         4  \n",
       "192                        2  \n",
       "671                        7  \n",
       "1859                       8  \n",
       "2727                       1  \n",
       "\n",
       "[5 rows x 24 columns]"
      ]
     },
     "execution_count": 36,
     "metadata": {},
     "output_type": "execute_result"
    }
   ],
   "source": [
    "# Cria uma nova coluna [Le_Nat_Ocup_Principal] com base na variável Natureza Agrupagada transformada em variável Label Encoder.\n",
    "le = LabelEncoder()\n",
    "df_fiscPF['Le_Nat_Ocup_Principal'] = le.fit_transform(df_fiscPF['Natureza agrupada'])\n",
    "df_fiscPF.head()"
   ]
  },
  {
   "cell_type": "code",
   "execution_count": 37,
   "metadata": {},
   "outputs": [
    {
     "data": {
      "text/plain": [
       "Natureza agrupada                                             Le_Nat_Ocup_Principal\n",
       "Proprietário de empr. ou firma indiv. ou empregador-titular   7                        1091\n",
       "Profissional liberal ou autônomo sem vínculo de emprego       6                         692\n",
       "Servidor Publico                                              8                         347\n",
       "Empregado de empresa setor privado, exceto instit. financ.    1                         297\n",
       "Natureza da ocupação não especificada anteriormente           4                         258\n",
       "Aposentado, militar res. ou refor., pens. prev., exc. cd. 62  0                         206\n",
       "Outras Naturezas                                              5                         114\n",
       "Natureza da Ocupacao nao declarada                            3                         111\n",
       "Espólio                                                       2                          63\n",
       "dtype: int64"
      ]
     },
     "execution_count": 37,
     "metadata": {},
     "output_type": "execute_result"
    }
   ],
   "source": [
    "# Identificando os labels das Naturezas agrupadas\n",
    "df_fiscPF[['Natureza agrupada','Le_Nat_Ocup_Principal']].value_counts()"
   ]
  },
  {
   "cell_type": "markdown",
   "metadata": {},
   "source": [
    "### Transformando a variável Ocup Principal\n",
    "Depois de analisar esta variável, decidimos por descartá-la."
   ]
  },
  {
   "cell_type": "code",
   "execution_count": 38,
   "metadata": {},
   "outputs": [
    {
     "data": {
      "text/plain": [
       "Dirigente, pres., diretor emp. indust., com. ou prest. serv.    641\n",
       "Médico                                                          401\n",
       "Não informado                                                   329\n",
       "Outras ocupações não especificadas anteriormente                329\n",
       "Produtor na exploração agropecuária                             276\n",
       "                                                               ... \n",
       "Outros profissionais do espetáculo e das artes                    1\n",
       "Presidente e diretor empresa pública e soc. economia mista        1\n",
       "Trabalhador da indústria extrativa e da construção civil          1\n",
       "Cinegrafista, fotógrafos e técnicos em máq. tratam. de dados      1\n",
       "Inválido                                                          1\n",
       "Name: Ocup Principal, Length: 88, dtype: int64"
      ]
     },
     "execution_count": 38,
     "metadata": {},
     "output_type": "execute_result"
    }
   ],
   "source": [
    "# Verificando a quantidade de cada valor\n",
    "df_fiscPF['Ocup Principal'].value_counts()"
   ]
  },
  {
   "cell_type": "markdown",
   "metadata": {},
   "source": [
    "Como esta variável apresenta 89 valores diferentes e ela representa o detalhamento da variável Nat_Ocup_Principal, decidimos por não utilizar essa variável. Pois, entendemos que não teria valor explicativo relevante."
   ]
  },
  {
   "cell_type": "code",
   "execution_count": 39,
   "metadata": {},
   "outputs": [
    {
     "data": {
      "text/plain": [
       "Index(['Tributo', 'PF1', 'PF2', 'PF3', 'PF4', 'PF5', 'Horas Trabalhadas',\n",
       "       'Faixa Autuado', 'Variacao Arrecadacao', 'Ano Declaracao',\n",
       "       'Idade Declarante', 'Nat Ocup Principal', 'Faixa Patrimonio',\n",
       "       'Faixa Renda', 'Dm_Tributo-Outros', 'Dm_Tributo-Previdência', 'Le_PF1',\n",
       "       'Le_PF3', 'Le_PF4', 'Le_PF5', 'Declaracao', 'Natureza agrupada',\n",
       "       'Le_Nat_Ocup_Principal'],\n",
       "      dtype='object')"
      ]
     },
     "execution_count": 39,
     "metadata": {},
     "output_type": "execute_result"
    }
   ],
   "source": [
    "# Retirando esta coluna do dataset\n",
    "df_fiscPF = df_fiscPF.drop(columns=['Ocup Principal'])\n",
    "df_fiscPF.columns"
   ]
  },
  {
   "cell_type": "markdown",
   "metadata": {},
   "source": [
    "## Tratamento das variáveis Quantitativas"
   ]
  },
  {
   "cell_type": "code",
   "execution_count": 40,
   "metadata": {},
   "outputs": [],
   "source": [
    "#As variáveis Quantitativas são:\n",
    "# PF2     \n",
    "# Horas Trabalhadas\n",
    "# Idade Declarante\n",
    "# Faixa Autuado\n",
    "# Variacao Arrecadacao\n",
    "# Faixa Patrimonio\n",
    "# Faixa Renda"
   ]
  },
  {
   "cell_type": "markdown",
   "metadata": {},
   "source": [
    "### Verificação dos Missing Values"
   ]
  },
  {
   "cell_type": "code",
   "execution_count": 41,
   "metadata": {},
   "outputs": [
    {
     "data": {
      "text/plain": [
       "PF2                       1\n",
       "Horas Trabalhadas         1\n",
       "Faixa Autuado             0\n",
       "Variacao Arrecadacao      0\n",
       "Idade Declarante          0\n",
       "Faixa Patrimonio        111\n",
       "Faixa Renda             111\n",
       "dtype: int64"
      ]
     },
     "execution_count": 41,
     "metadata": {},
     "output_type": "execute_result"
    }
   ],
   "source": [
    "df_fiscPF[['PF2','Horas Trabalhadas','Faixa Autuado','Variacao Arrecadacao','Idade Declarante',\n",
    "                              'Faixa Patrimonio','Faixa Renda']].isnull().sum()"
   ]
  },
  {
   "cell_type": "markdown",
   "metadata": {},
   "source": [
    "### Tratamento da variável PF2\n",
    "Retirando o valor nulo e criando categorias conforme regras do negócio."
   ]
  },
  {
   "cell_type": "code",
   "execution_count": 42,
   "metadata": {},
   "outputs": [
    {
     "data": {
      "text/plain": [
       "1"
      ]
     },
     "execution_count": 42,
     "metadata": {},
     "output_type": "execute_result"
    }
   ],
   "source": [
    "# Contando quantos valores nulos\n",
    "df_fiscPF['PF2'].isna().sum()"
   ]
  },
  {
   "cell_type": "code",
   "execution_count": 43,
   "metadata": {},
   "outputs": [
    {
     "data": {
      "text/plain": [
       "count    3178.000000\n",
       "mean        1.384833\n",
       "std         8.237931\n",
       "min         0.000000\n",
       "25%         0.000000\n",
       "50%         0.000000\n",
       "75%         0.000000\n",
       "max       322.000000\n",
       "Name: PF2, dtype: float64"
      ]
     },
     "execution_count": 43,
     "metadata": {},
     "output_type": "execute_result"
    }
   ],
   "source": [
    "# Verificando a distribuição da variável PF2\n",
    "df_fiscPF['PF2'].describe()"
   ]
  },
  {
   "cell_type": "code",
   "execution_count": 44,
   "metadata": {},
   "outputs": [
    {
     "data": {
      "text/plain": [
       "0"
      ]
     },
     "execution_count": 44,
     "metadata": {},
     "output_type": "execute_result"
    }
   ],
   "source": [
    "# Como os quartis são todos iguais a zero, concluímos que existe uma grande frequência de valores zerados.\n",
    "# Então, vamos preencher o valor nulo também com zero.\n",
    "df_fiscPF['PF2'] = df_fiscPF['PF2'].fillna(0)\n",
    "df_fiscPF['PF2'].isnull().sum()"
   ]
  },
  {
   "cell_type": "markdown",
   "metadata": {},
   "source": [
    "As regras de negócio estabelecem as seguintes categorias:\n",
    "\n",
    "0 - não ocorreu este procedimento fiscal\n",
    "\n",
    "1 - 1 a 5 ocorrências\n",
    "\n",
    "2 - 6 a 20 ocorrências\n",
    "\n",
    "3 - 21 a 60 ocorrências\n",
    "\n",
    "4 - acima de 60 ocorrências"
   ]
  },
  {
   "cell_type": "code",
   "execution_count": 45,
   "metadata": {},
   "outputs": [
    {
     "data": {
      "text/plain": [
       "array([0, 3, 1, 2, 4], dtype=int64)"
      ]
     },
     "execution_count": 45,
     "metadata": {},
     "output_type": "execute_result"
    }
   ],
   "source": [
    "# Vamos transformar a variável PF2 em categórica, criando a variável PF2_cat\n",
    "def Transforma(num):\n",
    "    if num > 60:\n",
    "       num = 4\n",
    "    elif num > 20:\n",
    "       num = 3\n",
    "    elif num > 5:\n",
    "       num = 2\n",
    "    elif num > 0:\n",
    "       num = 1\n",
    "    else:\n",
    "       num = 0\n",
    "    return num    \n",
    "df_fiscPF['PF2_cat'] = df_fiscPF['PF2'].apply(lambda x: int(Transforma(x)))\n",
    "df_fiscPF['PF2_cat'].unique()"
   ]
  },
  {
   "cell_type": "markdown",
   "metadata": {},
   "source": [
    "### Tratamento da variável Horas Trabalhadas\n",
    "Retirando os valores nulos e criando categorias conforme regras do negócio."
   ]
  },
  {
   "cell_type": "code",
   "execution_count": 46,
   "metadata": {},
   "outputs": [
    {
     "data": {
      "text/plain": [
       "1"
      ]
     },
     "execution_count": 46,
     "metadata": {},
     "output_type": "execute_result"
    }
   ],
   "source": [
    "# Contando quantos valores nulos\n",
    "df_fiscPF['Horas Trabalhadas'].isna().sum()"
   ]
  },
  {
   "cell_type": "code",
   "execution_count": 47,
   "metadata": {},
   "outputs": [
    {
     "data": {
      "text/plain": [
       "count    3178.000000\n",
       "mean      111.955003\n",
       "std       139.293304\n",
       "min         0.000000\n",
       "25%        19.000000\n",
       "50%        72.000000\n",
       "75%       154.750000\n",
       "max      2676.000000\n",
       "Name: Horas Trabalhadas, dtype: float64"
      ]
     },
     "execution_count": 47,
     "metadata": {},
     "output_type": "execute_result"
    }
   ],
   "source": [
    "# Verificando a distribuição da variável Horas Trabalhadas\n",
    "df_fiscPF['Horas Trabalhadas'].describe()"
   ]
  },
  {
   "cell_type": "code",
   "execution_count": 48,
   "metadata": {},
   "outputs": [
    {
     "data": {
      "text/plain": [
       "<AxesSubplot:>"
      ]
     },
     "execution_count": 48,
     "metadata": {},
     "output_type": "execute_result"
    },
    {
     "data": {
      "image/png": "[encoded data removed]",
      "text/plain": [
       "<Figure size 432x288 with 1 Axes>"
      ]
     },
     "metadata": {
      "needs_background": "light"
     },
     "output_type": "display_data"
    }
   ],
   "source": [
    "#Verificando o Tipo de distribuição dos dados\n",
    "df_fiscPF['Horas Trabalhadas'].hist(bins=100)"
   ]
  },
  {
   "cell_type": "code",
   "execution_count": 49,
   "metadata": {},
   "outputs": [
    {
     "data": {
      "text/plain": [
       "0    0.0\n",
       "dtype: float64"
      ]
     },
     "execution_count": 49,
     "metadata": {},
     "output_type": "execute_result"
    }
   ],
   "source": [
    "#Verificando o valor da moda\n",
    "df_fiscPF['Horas Trabalhadas'].mode()"
   ]
  },
  {
   "cell_type": "code",
   "execution_count": 50,
   "metadata": {},
   "outputs": [
    {
     "data": {
      "text/plain": [
       "0"
      ]
     },
     "execution_count": 50,
     "metadata": {},
     "output_type": "execute_result"
    }
   ],
   "source": [
    "#Como essa variável é assimétrica à direita, parece mais adequado utilizar a mediana para preencher o  \n",
    "#valor nulo\n",
    "df_fiscPF['Horas Trabalhadas'] = df_fiscPF['Horas Trabalhadas'].fillna(df_fiscPF['Horas Trabalhadas'].median())\n",
    "df_fiscPF['Horas Trabalhadas'].isna().sum()"
   ]
  },
  {
   "cell_type": "markdown",
   "metadata": {},
   "source": [
    "As regras de negócio estabelecem as seguintes categorias:\n",
    "\n",
    "0 - não ocorreu registro\n",
    "\n",
    "1 - abaixo de 56 horas\n",
    "\n",
    "2 - entre 56 e 84 horas\n",
    "\n",
    "3 - acima de 84 horas"
   ]
  },
  {
   "cell_type": "code",
   "execution_count": 51,
   "metadata": {},
   "outputs": [
    {
     "data": {
      "text/plain": [
       "array([1, 0, 3, 2], dtype=int64)"
      ]
     },
     "execution_count": 51,
     "metadata": {},
     "output_type": "execute_result"
    }
   ],
   "source": [
    "# Vamos transformar a variável Horas Trabalhadas em categórica, criando a variável HTrab_cat\n",
    "def Transforma(num):\n",
    "    if num > 84:\n",
    "       num = 3\n",
    "    elif num > 55:\n",
    "       num = 2\n",
    "    elif num > 0:\n",
    "       num = 1\n",
    "    else:\n",
    "       num = 0\n",
    "    return num    \n",
    "df_fiscPF['HTrab_cat'] = df_fiscPF['Horas Trabalhadas'].apply(lambda x: int(Transforma(x)))\n",
    "df_fiscPF['HTrab_cat'].unique()"
   ]
  },
  {
   "cell_type": "markdown",
   "metadata": {},
   "source": [
    "### Tratamento da variável Idade Declarante\n",
    "Verificando se existem valores nulos e criando categorias por faixa de idade. Exemplo: faixa 1 => 10 a 19 anos"
   ]
  },
  {
   "cell_type": "code",
   "execution_count": 52,
   "metadata": {},
   "outputs": [
    {
     "data": {
      "text/plain": [
       "0"
      ]
     },
     "execution_count": 52,
     "metadata": {},
     "output_type": "execute_result"
    }
   ],
   "source": [
    "# Verificando a existência de valores nulos\n",
    "df_fiscPF['Idade Declarante'].isna().sum()"
   ]
  },
  {
   "cell_type": "code",
   "execution_count": 53,
   "metadata": {},
   "outputs": [
    {
     "data": {
      "text/plain": [
       "array([3, 7, 6, 5, 4, 2, 8, 9, 1], dtype=int64)"
      ]
     },
     "execution_count": 53,
     "metadata": {},
     "output_type": "execute_result"
    }
   ],
   "source": [
    "# Vamos transformar a variável Idade Declarante em faixas, criando a variável Idade_cat\n",
    "def Transforma(num):\n",
    "    if num > 89:\n",
    "       num = 9\n",
    "    elif num > 79:\n",
    "       num = 8\n",
    "    elif num > 69:\n",
    "       num = 7\n",
    "    elif num > 59:\n",
    "       num = 6\n",
    "    elif num > 49:\n",
    "       num = 5\n",
    "    elif num > 39:\n",
    "       num = 4\n",
    "    elif num > 29:\n",
    "       num = 3\n",
    "    elif num > 19:\n",
    "       num = 2\n",
    "    else:\n",
    "       num = 1\n",
    "    return num    \n",
    "df_fiscPF['Idade_cat'] = df_fiscPF['Idade Declarante'].apply(lambda x: int(Transforma(x)))\n",
    "df_fiscPF['Idade_cat'].unique()"
   ]
  },
  {
   "cell_type": "code",
   "execution_count": 54,
   "metadata": {},
   "outputs": [
    {
     "data": {
      "text/plain": [
       "count    3179.000000\n",
       "mean       52.944637\n",
       "std        14.785079\n",
       "min        13.000000\n",
       "25%        41.000000\n",
       "50%        52.000000\n",
       "75%        63.000000\n",
       "max       108.000000\n",
       "Name: Idade Declarante, dtype: float64"
      ]
     },
     "execution_count": 54,
     "metadata": {},
     "output_type": "execute_result"
    }
   ],
   "source": [
    "df_fiscPF['Idade Declarante'].describe()"
   ]
  },
  {
   "cell_type": "markdown",
   "metadata": {},
   "source": [
    "### Verificação de valores nulos nas variáveis de Faixas"
   ]
  },
  {
   "cell_type": "code",
   "execution_count": 55,
   "metadata": {},
   "outputs": [
    {
     "data": {
      "text/plain": [
       "Faixa Autuado         0\n",
       "Faixa Patrimonio    111\n",
       "Faixa Renda         111\n",
       "dtype: int64"
      ]
     },
     "execution_count": 55,
     "metadata": {},
     "output_type": "execute_result"
    }
   ],
   "source": [
    "#Verificando os missing values\n",
    "df_fiscPF[['Faixa Autuado','Faixa Patrimonio','Faixa Renda']].isnull().sum()"
   ]
  },
  {
   "cell_type": "markdown",
   "metadata": {},
   "source": [
    "### Tratamento das variáveis Faixas: Patrimonio e Faixa Renda\n",
    "Estas variáveis possuem missing values porque são de pessoas que não entregaram a declaração do Imposto de Renda. Neste caso, o tratamento para elas será deixar os valores como zerados."
   ]
  },
  {
   "cell_type": "code",
   "execution_count": 56,
   "metadata": {},
   "outputs": [],
   "source": [
    "#Preenchendo com zeros as variáveis de valores sem informação.\n",
    "df_fiscPF[['Faixa Patrimonio','Faixa Renda']] = df_fiscPF[['Faixa Patrimonio','Faixa Renda']].fillna(0)"
   ]
  },
  {
   "cell_type": "code",
   "execution_count": 57,
   "metadata": {},
   "outputs": [
    {
     "data": {
      "text/plain": [
       "Faixa Patrimonio    0\n",
       "Faixa Renda         0\n",
       "dtype: int64"
      ]
     },
     "execution_count": 57,
     "metadata": {},
     "output_type": "execute_result"
    }
   ],
   "source": [
    "#Verificando os missing values\n",
    "df_fiscPF[['Faixa Patrimonio','Faixa Renda']].isnull().sum()"
   ]
  },
  {
   "cell_type": "code",
   "execution_count": 58,
   "metadata": {},
   "outputs": [
    {
     "data": {
      "text/plain": [
       "Tributo                    object\n",
       "PF1                        object\n",
       "PF2                       float64\n",
       "PF3                        object\n",
       "PF4                        object\n",
       "PF5                        object\n",
       "Horas Trabalhadas         float64\n",
       "Faixa Autuado               int64\n",
       "Variacao Arrecadacao        int64\n",
       "Ano Declaracao            float64\n",
       "Idade Declarante            int64\n",
       "Nat Ocup Principal         object\n",
       "Faixa Patrimonio            int64\n",
       "Faixa Renda                 int64\n",
       "Dm_Tributo-Outros           uint8\n",
       "Dm_Tributo-Previdência      uint8\n",
       "Le_PF1                      int32\n",
       "Le_PF3                      int32\n",
       "Le_PF4                      int32\n",
       "Le_PF5                      int32\n",
       "Declaracao                  int64\n",
       "Natureza agrupada          object\n",
       "Le_Nat_Ocup_Principal       int32\n",
       "PF2_cat                     int64\n",
       "HTrab_cat                   int64\n",
       "Idade_cat                   int64\n",
       "dtype: object"
      ]
     },
     "execution_count": 58,
     "metadata": {},
     "output_type": "execute_result"
    }
   ],
   "source": [
    "# Transformando as variáveis Faixa Patrimonio e Faixa Renda no Tipo int\n",
    "df_fiscPF['Faixa Patrimonio'] = df_fiscPF['Faixa Patrimonio'].apply(lambda x: int(x))\n",
    "df_fiscPF['Faixa Renda'] = df_fiscPF['Faixa Renda'].apply(lambda x: int(x))\n",
    "df_fiscPF.dtypes"
   ]
  },
  {
   "cell_type": "markdown",
   "metadata": {},
   "source": [
    "## Excluindo as variáveis originais que foram transformadas"
   ]
  },
  {
   "cell_type": "code",
   "execution_count": 59,
   "metadata": {},
   "outputs": [
    {
     "data": {
      "text/plain": [
       "Index(['Tributo', 'PF1', 'PF2', 'PF3', 'PF4', 'PF5', 'Horas Trabalhadas',\n",
       "       'Faixa Autuado', 'Variacao Arrecadacao', 'Ano Declaracao',\n",
       "       'Idade Declarante', 'Nat Ocup Principal', 'Faixa Patrimonio',\n",
       "       'Faixa Renda', 'Dm_Tributo-Outros', 'Dm_Tributo-Previdência', 'Le_PF1',\n",
       "       'Le_PF3', 'Le_PF4', 'Le_PF5', 'Declaracao', 'Natureza agrupada',\n",
       "       'Le_Nat_Ocup_Principal', 'PF2_cat', 'HTrab_cat', 'Idade_cat'],\n",
       "      dtype='object')"
      ]
     },
     "execution_count": 59,
     "metadata": {},
     "output_type": "execute_result"
    }
   ],
   "source": [
    "# Identificando todas as colunas do DataFrame\n",
    "df_fiscPF.columns"
   ]
  },
  {
   "cell_type": "code",
   "execution_count": 60,
   "metadata": {},
   "outputs": [
    {
     "data": {
      "text/plain": [
       "Index(['Faixa Autuado', 'Variacao Arrecadacao', 'Faixa Patrimonio',\n",
       "       'Faixa Renda', 'Dm_Tributo-Outros', 'Dm_Tributo-Previdência', 'Le_PF1',\n",
       "       'Le_PF3', 'Le_PF4', 'Le_PF5', 'Declaracao', 'Le_Nat_Ocup_Principal',\n",
       "       'PF2_cat', 'HTrab_cat', 'Idade_cat'],\n",
       "      dtype='object')"
      ]
     },
     "execution_count": 60,
     "metadata": {},
     "output_type": "execute_result"
    }
   ],
   "source": [
    "df_finais = df_fiscPF.drop(columns=['Tributo', 'PF1', 'PF2', 'PF3', 'PF4', 'PF5','Horas Trabalhadas', 'Ano Declaracao',\n",
    "                                    'Idade Declarante','Nat Ocup Principal','Natureza agrupada'])                                \n",
    "df_finais.columns"
   ]
  },
  {
   "cell_type": "markdown",
   "metadata": {},
   "source": [
    "# Análise Exploratória de Dados\n",
    "Depois das transformações, todas as variáveis tornaram-se categóricas. Não temos mais variáveis quantitativas."
   ]
  },
  {
   "cell_type": "code",
   "execution_count": 61,
   "metadata": {},
   "outputs": [
    {
     "data": {
      "image/png": "[encoded data removed]",
      "text/plain": [
       "<Figure size 403.2x288 with 2 Axes>"
      ]
     },
     "metadata": {
      "needs_background": "light"
     },
     "output_type": "display_data"
    }
   ],
   "source": [
    "sns.catplot(x='Faixa Autuado', col='Variacao Arrecadacao',\n",
    "                data=df_finais, kind=\"count\",\n",
    "                height=4, aspect=.7);"
   ]
  },
  {
   "cell_type": "code",
   "execution_count": 62,
   "metadata": {},
   "outputs": [
    {
     "data": {
      "image/png": "[encoded data removed]",
      "text/plain": [
       "<Figure size 403.2x288 with 2 Axes>"
      ]
     },
     "metadata": {
      "needs_background": "light"
     },
     "output_type": "display_data"
    }
   ],
   "source": [
    "sns.catplot(x='Faixa Patrimonio', col='Variacao Arrecadacao',\n",
    "                data=df_finais, kind=\"count\",\n",
    "                height=4, aspect=.7);"
   ]
  },
  {
   "cell_type": "code",
   "execution_count": 63,
   "metadata": {},
   "outputs": [
    {
     "data": {
      "image/png": "[encoded data removed]",
      "text/plain": [
       "<Figure size 403.2x288 with 2 Axes>"
      ]
     },
     "metadata": {
      "needs_background": "light"
     },
     "output_type": "display_data"
    }
   ],
   "source": [
    "sns.catplot(x='Faixa Renda', col='Variacao Arrecadacao',\n",
    "                data=df_finais, kind=\"count\",\n",
    "                height=4, aspect=.7);"
   ]
  },
  {
   "cell_type": "code",
   "execution_count": 64,
   "metadata": {},
   "outputs": [
    {
     "data": {
      "image/png": "[encoded data removed]",
      "text/plain": [
       "<Figure size 403.2x288 with 2 Axes>"
      ]
     },
     "metadata": {
      "needs_background": "light"
     },
     "output_type": "display_data"
    }
   ],
   "source": [
    "sns.catplot(x='Dm_Tributo-Outros', col='Variacao Arrecadacao',\n",
    "                data=df_finais, kind=\"count\",\n",
    "                height=4, aspect=.7);"
   ]
  },
  {
   "cell_type": "code",
   "execution_count": 65,
   "metadata": {},
   "outputs": [
    {
     "data": {
      "image/png": "[encoded data removed]",
      "text/plain": [
       "<Figure size 403.2x288 with 2 Axes>"
      ]
     },
     "metadata": {
      "needs_background": "light"
     },
     "output_type": "display_data"
    }
   ],
   "source": [
    "sns.catplot(x='Dm_Tributo-Previdência', col='Variacao Arrecadacao',\n",
    "                data=df_finais, kind=\"count\",\n",
    "                height=4, aspect=.7);"
   ]
  },
  {
   "cell_type": "code",
   "execution_count": 66,
   "metadata": {},
   "outputs": [
    {
     "data": {
      "image/png": "[encoded data removed]",
      "text/plain": [
       "<Figure size 403.2x288 with 2 Axes>"
      ]
     },
     "metadata": {
      "needs_background": "light"
     },
     "output_type": "display_data"
    }
   ],
   "source": [
    "sns.catplot(x='Le_PF1', col='Variacao Arrecadacao',\n",
    "                data=df_finais, kind=\"count\",\n",
    "                height=4, aspect=.7);"
   ]
  },
  {
   "cell_type": "code",
   "execution_count": 67,
   "metadata": {},
   "outputs": [
    {
     "data": {
      "image/png": "[encoded data removed]",
      "text/plain": [
       "<Figure size 403.2x288 with 2 Axes>"
      ]
     },
     "metadata": {
      "needs_background": "light"
     },
     "output_type": "display_data"
    }
   ],
   "source": [
    "sns.catplot(x='Le_PF3', col='Variacao Arrecadacao',\n",
    "                data=df_finais, kind=\"count\",\n",
    "                height=4, aspect=.7);"
   ]
  },
  {
   "cell_type": "code",
   "execution_count": 68,
   "metadata": {},
   "outputs": [
    {
     "data": {
      "image/png": "[encoded data removed]",
      "text/plain": [
       "<Figure size 403.2x288 with 2 Axes>"
      ]
     },
     "metadata": {
      "needs_background": "light"
     },
     "output_type": "display_data"
    }
   ],
   "source": [
    "sns.catplot(x='Le_PF4', col='Variacao Arrecadacao',\n",
    "                data=df_finais, kind=\"count\",\n",
    "                height=4, aspect=.7);"
   ]
  },
  {
   "cell_type": "code",
   "execution_count": 69,
   "metadata": {},
   "outputs": [
    {
     "data": {
      "image/png": "[encoded data removed]",
      "text/plain": [
       "<Figure size 403.2x288 with 2 Axes>"
      ]
     },
     "metadata": {
      "needs_background": "light"
     },
     "output_type": "display_data"
    }
   ],
   "source": [
    "sns.catplot(x='Le_PF5', col='Variacao Arrecadacao',\n",
    "                data=df_finais, kind=\"count\",\n",
    "                height=4, aspect=.7);"
   ]
  },
  {
   "cell_type": "code",
   "execution_count": 70,
   "metadata": {},
   "outputs": [
    {
     "data": {
      "image/png": "[encoded data removed]",
      "text/plain": [
       "<Figure size 403.2x288 with 2 Axes>"
      ]
     },
     "metadata": {
      "needs_background": "light"
     },
     "output_type": "display_data"
    }
   ],
   "source": [
    "sns.catplot(x='Declaracao', col='Variacao Arrecadacao',\n",
    "                data=df_finais, kind=\"count\",\n",
    "                height=4, aspect=.7);"
   ]
  },
  {
   "cell_type": "code",
   "execution_count": 71,
   "metadata": {},
   "outputs": [
    {
     "data": {
      "image/png": "[encoded data removed]",
      "text/plain": [
       "<Figure size 403.2x288 with 2 Axes>"
      ]
     },
     "metadata": {
      "needs_background": "light"
     },
     "output_type": "display_data"
    }
   ],
   "source": [
    "sns.catplot(x='Le_Nat_Ocup_Principal', col='Variacao Arrecadacao',\n",
    "                data=df_finais, kind=\"count\",\n",
    "                height=4, aspect=.7);"
   ]
  },
  {
   "cell_type": "code",
   "execution_count": 72,
   "metadata": {},
   "outputs": [
    {
     "data": {
      "image/png": "[encoded data removed]",
      "text/plain": [
       "<Figure size 403.2x288 with 2 Axes>"
      ]
     },
     "metadata": {
      "needs_background": "light"
     },
     "output_type": "display_data"
    }
   ],
   "source": [
    "sns.catplot(x='Idade_cat', col='Variacao Arrecadacao',\n",
    "                data=df_finais, kind=\"count\",\n",
    "                height=4, aspect=.7);"
   ]
  },
  {
   "cell_type": "code",
   "execution_count": 73,
   "metadata": {},
   "outputs": [
    {
     "data": {
      "image/png": "[encoded data removed]",
      "text/plain": [
       "<Figure size 403.2x288 with 2 Axes>"
      ]
     },
     "metadata": {
      "needs_background": "light"
     },
     "output_type": "display_data"
    }
   ],
   "source": [
    "sns.catplot(x='HTrab_cat', col='Variacao Arrecadacao',\n",
    "                data=df_finais, kind=\"count\",\n",
    "                height=4, aspect=.7);"
   ]
  },
  {
   "cell_type": "code",
   "execution_count": 74,
   "metadata": {},
   "outputs": [
    {
     "data": {
      "image/png": "[encoded data removed]",
      "text/plain": [
       "<Figure size 403.2x288 with 2 Axes>"
      ]
     },
     "metadata": {
      "needs_background": "light"
     },
     "output_type": "display_data"
    }
   ],
   "source": [
    "sns.catplot(x='PF2_cat', col='Variacao Arrecadacao',\n",
    "                data=df_finais, kind=\"count\",\n",
    "                height=4, aspect=.7);"
   ]
  },
  {
   "cell_type": "markdown",
   "metadata": {},
   "source": [
    "## Verificando se a Variável Target está balanceada\n",
    "A variável target é a Variacao Arrecadacao"
   ]
  },
  {
   "cell_type": "code",
   "execution_count": 75,
   "metadata": {},
   "outputs": [
    {
     "data": {
      "text/plain": [
       "1    0.512425\n",
       "0    0.487575\n",
       "Name: Variacao Arrecadacao, dtype: float64"
      ]
     },
     "execution_count": 75,
     "metadata": {},
     "output_type": "execute_result"
    }
   ],
   "source": [
    "# Analisando o percentual de distribuição da variável target\n",
    "df_finais['Variacao Arrecadacao'].value_counts()/df_finais.shape[0]"
   ]
  },
  {
   "cell_type": "code",
   "execution_count": 76,
   "metadata": {},
   "outputs": [
    {
     "data": {
      "text/plain": [
       "<AxesSubplot:xlabel='Variacao Arrecadacao', ylabel='count'>"
      ]
     },
     "execution_count": 76,
     "metadata": {},
     "output_type": "execute_result"
    },
    {
     "data": {
      "image/png": "[encoded data removed]",
      "text/plain": [
       "<Figure size 432x288 with 1 Axes>"
      ]
     },
     "metadata": {
      "needs_background": "light"
     },
     "output_type": "display_data"
    }
   ],
   "source": [
    "#Gráfico da variável target\n",
    "sns.countplot(x = 'Variacao Arrecadacao', data = df_finais)"
   ]
  },
  {
   "cell_type": "markdown",
   "metadata": {},
   "source": [
    "# Separação das variáveis Explicativas e Resultado\n",
    "Vamos selecionar as variáveis transformadas"
   ]
  },
  {
   "cell_type": "code",
   "execution_count": 77,
   "metadata": {},
   "outputs": [
    {
     "data": {
      "text/plain": [
       "Faixa Autuado             int64\n",
       "Faixa Patrimonio          int64\n",
       "Faixa Renda               int64\n",
       "Dm_Tributo-Outros         uint8\n",
       "Dm_Tributo-Previdência    uint8\n",
       "Le_PF1                    int32\n",
       "Le_PF3                    int32\n",
       "Le_PF4                    int32\n",
       "Le_PF5                    int32\n",
       "Declaracao                int64\n",
       "Le_Nat_Ocup_Principal     int32\n",
       "PF2_cat                   int64\n",
       "HTrab_cat                 int64\n",
       "Idade_cat                 int64\n",
       "dtype: object"
      ]
     },
     "execution_count": 77,
     "metadata": {},
     "output_type": "execute_result"
    }
   ],
   "source": [
    "df_explicativas = df_finais.drop(columns=['Variacao Arrecadacao'])                                \n",
    "df_explicativas.dtypes"
   ]
  },
  {
   "cell_type": "code",
   "execution_count": 78,
   "metadata": {},
   "outputs": [
    {
     "data": {
      "text/plain": [
       "Linha\n",
       "78      0\n",
       "192     0\n",
       "671     0\n",
       "1859    0\n",
       "2727    0\n",
       "Name: Variacao Arrecadacao, dtype: int64"
      ]
     },
     "execution_count": 78,
     "metadata": {},
     "output_type": "execute_result"
    }
   ],
   "source": [
    "# Separando a variável resultado categórica\n",
    "df_target = df_fiscPF['Variacao Arrecadacao']\n",
    "df_target.head()"
   ]
  },
  {
   "cell_type": "markdown",
   "metadata": {},
   "source": [
    "# Selecionando as variáveis mais importantes"
   ]
  },
  {
   "cell_type": "markdown",
   "metadata": {},
   "source": [
    "## Utilizando a Regressão Logística com Statsmodels\n",
    "As variáveis selecionadas foram: Faixa Autuado, Faixa Patrimonio, Faixa Renda, Le_PF1 e Dm_Tributos-Previdência."
   ]
  },
  {
   "cell_type": "code",
   "execution_count": 79,
   "metadata": {},
   "outputs": [
    {
     "name": "stdout",
     "output_type": "stream",
     "text": [
      "[ True  True  True  True  True  True  True  True  True  True  True  True\n",
      "  True  True]\n",
      "[1 1 1 1 1 1 1 1 1 1 1 1 1 1]\n"
     ]
    },
    {
     "name": "stderr",
     "output_type": "stream",
     "text": [
      "C:\\Users\\85817570734\\Anaconda3\\lib\\site-packages\\sklearn\\utils\\validation.py:67: FutureWarning: Pass n_features_to_select=18 as keyword args. From version 0.25 passing these as positional arguments will result in an error\n",
      "  warnings.warn(\"Pass {} as keyword args. From version 0.25 \"\n"
     ]
    }
   ],
   "source": [
    "from sklearn import datasets\n",
    "from sklearn.feature_selection import RFE\n",
    "from sklearn.linear_model import LogisticRegression\n",
    "\n",
    "logreg = LogisticRegression()\n",
    "\n",
    "rfe = RFE(logreg, 18)\n",
    "rfe = rfe.fit(df_explicativas, df_target)\n",
    "print(rfe.support_)\n",
    "print(rfe.ranking_)"
   ]
  },
  {
   "cell_type": "code",
   "execution_count": 80,
   "metadata": {},
   "outputs": [
    {
     "name": "stdout",
     "output_type": "stream",
     "text": [
      "Optimization terminated successfully.\n",
      "         Current function value: 0.638914\n",
      "         Iterations 5\n",
      "                            Logit Regression Results                            \n",
      "================================================================================\n",
      "Dep. Variable:     Variacao Arrecadacao   No. Observations:                 3179\n",
      "Model:                            Logit   Df Residuals:                     3165\n",
      "Method:                             MLE   Df Model:                           13\n",
      "Date:                  Wed, 07 Jul 2021   Pseudo R-squ.:                 0.07783\n",
      "Time:                          15:19:29   Log-Likelihood:                -2031.1\n",
      "converged:                         True   LL-Null:                       -2202.5\n",
      "Covariance Type:              nonrobust   LLR p-value:                 2.474e-65\n",
      "==========================================================================================\n",
      "                             coef    std err          z      P>|z|      [0.025      0.975]\n",
      "------------------------------------------------------------------------------------------\n",
      "Faixa Autuado             -0.2137      0.042     -5.106      0.000      -0.296      -0.132\n",
      "Faixa Patrimonio           0.1473      0.024      6.144      0.000       0.100       0.194\n",
      "Faixa Renda                0.3019      0.034      8.882      0.000       0.235       0.368\n",
      "Dm_Tributo-Outros         -0.3596      0.214     -1.683      0.092      -0.778       0.059\n",
      "Dm_Tributo-Previdência     0.2837      0.104      2.717      0.007       0.079       0.488\n",
      "Le_PF1                    -0.6818      0.163     -4.171      0.000      -1.002      -0.361\n",
      "Le_PF3                     0.0755      0.111      0.678      0.498      -0.143       0.294\n",
      "Le_PF4                     0.1444      0.100      1.444      0.149      -0.052       0.340\n",
      "Le_PF5                    -0.2715      0.159     -1.710      0.087      -0.583       0.040\n",
      "Declaracao                -0.2847      0.156     -1.821      0.069      -0.591       0.022\n",
      "Le_Nat_Ocup_Principal     -0.0169      0.016     -1.083      0.279      -0.047       0.014\n",
      "PF2_cat                   -0.0500      0.070     -0.710      0.478      -0.188       0.088\n",
      "HTrab_cat                  0.0555      0.049      1.138      0.255      -0.040       0.151\n",
      "Idade_cat                 -0.0399      0.023     -1.758      0.079      -0.084       0.005\n",
      "==========================================================================================\n"
     ]
    }
   ],
   "source": [
    "import statsmodels.api as sm\n",
    "logit_model=sm.Logit(df_target,df_explicativas)\n",
    "result=logit_model.fit()\n",
    "print(result.summary())"
   ]
  },
  {
   "cell_type": "code",
   "execution_count": 81,
   "metadata": {},
   "outputs": [
    {
     "data": {
      "text/plain": [
       "array([ True,  True,  True, False,  True,  True, False, False, False,\n",
       "       False, False, False, False, False])"
      ]
     },
     "execution_count": 81,
     "metadata": {},
     "output_type": "execute_result"
    }
   ],
   "source": [
    "LRS = np.array([True,True,True,False,True,True,False,False,False,False,False,False,False,False])\n",
    "LRS"
   ]
  },
  {
   "cell_type": "markdown",
   "metadata": {},
   "source": [
    "## Utilizando o Método RandomForestClassifier"
   ]
  },
  {
   "cell_type": "code",
   "execution_count": 82,
   "metadata": {},
   "outputs": [
    {
     "name": "stdout",
     "output_type": "stream",
     "text": [
      "5  Foram as variaveis selecionadas:\n",
      "['Faixa Autuado', 'Faixa Patrimonio', 'Faixa Renda', 'Le_Nat_Ocup_Principal', 'Idade_cat']\n"
     ]
    }
   ],
   "source": [
    "from sklearn.feature_selection import SelectFromModel\n",
    "from sklearn.ensemble import RandomForestClassifier\n",
    "emb_selector = SelectFromModel(RandomForestClassifier(random_state=42))\n",
    "emb_selector.fit(df_explicativas,df_target)\n",
    "emb_support = emb_selector.get_support()\n",
    "emb_feature = df_explicativas.loc[:,emb_support].columns.tolist()\n",
    "\n",
    "print(str(len(emb_feature)), ' Foram as variaveis selecionadas:')\n",
    "print(emb_feature)"
   ]
  },
  {
   "cell_type": "markdown",
   "metadata": {},
   "source": [
    "## Utilizando o Método XGBoost (Extreme Gradient Boosting)"
   ]
  },
  {
   "cell_type": "code",
   "execution_count": 83,
   "metadata": {},
   "outputs": [
    {
     "name": "stdout",
     "output_type": "stream",
     "text": [
      "Requirement already satisfied: xgboost in c:\\users\\85817570734\\anaconda3\\lib\\site-packages (1.4.2)\n",
      "Requirement already satisfied: scipy in c:\\users\\85817570734\\anaconda3\\lib\\site-packages (from xgboost) (1.5.2)\n",
      "Requirement already satisfied: numpy in c:\\users\\85817570734\\anaconda3\\lib\\site-packages (from xgboost) (1.19.2)\n"
     ]
    }
   ],
   "source": [
    "!pip install xgboost"
   ]
  },
  {
   "cell_type": "code",
   "execution_count": 84,
   "metadata": {},
   "outputs": [],
   "source": [
    "from xgboost import XGBClassifier"
   ]
  },
  {
   "cell_type": "code",
   "execution_count": 85,
   "metadata": {},
   "outputs": [],
   "source": [
    "# Particionando a base de dados em treinamento (80%) e teste (20%) \n",
    "from sklearn.model_selection import train_test_split\n",
    "\n",
    "X_treinamento, X_teste, y_treinamento, y_teste = train_test_split(df_explicativas, df_target,\n",
    "                                                                  test_size = 0.2,\n",
    "                                                                  random_state = 20111974)"
   ]
  },
  {
   "cell_type": "code",
   "execution_count": 86,
   "metadata": {},
   "outputs": [
    {
     "data": {
      "text/plain": [
       "(2543, 14)"
      ]
     },
     "execution_count": 86,
     "metadata": {},
     "output_type": "execute_result"
    }
   ],
   "source": [
    "X_treinamento.shape"
   ]
  },
  {
   "cell_type": "code",
   "execution_count": 87,
   "metadata": {},
   "outputs": [
    {
     "data": {
      "text/plain": [
       "(636, 14)"
      ]
     },
     "execution_count": 87,
     "metadata": {},
     "output_type": "execute_result"
    }
   ],
   "source": [
    "X_teste.shape"
   ]
  },
  {
   "cell_type": "code",
   "execution_count": 88,
   "metadata": {},
   "outputs": [
    {
     "name": "stdout",
     "output_type": "stream",
     "text": [
      "Acurácia: 0.6084905660377359\n"
     ]
    }
   ],
   "source": [
    "from sklearn.metrics import accuracy_score\n",
    "# Cria um clasificador XGBoost\n",
    "clf = XGBClassifier(n_estimators = 10000, random_state = 20111974, n_jobs = 50, max_depth = 3, \n",
    "                    learning_rate = 0.61, eval_metric='logloss',use_label_encoder=False)\n",
    "\n",
    "# Treina o classificador\n",
    "clf.fit(X_treinamento, y_treinamento)\n",
    "\n",
    "# Calcula o y_pred e avalia a qualidade do ajuste\n",
    "y_pred = clf.predict(X_teste)\n",
    "predicao = [round(value) for value in y_pred]\n",
    "acuracia = accuracy_score(y_teste, predicao)\n",
    "print(f\"Acurácia: {acuracia}\")"
   ]
  },
  {
   "cell_type": "code",
   "execution_count": 89,
   "metadata": {
    "scrolled": false
   },
   "outputs": [
    {
     "name": "stderr",
     "output_type": "stream",
     "text": [
      "C:\\Users\\85817570734\\Anaconda3\\lib\\site-packages\\xgboost\\sklearn.py:1146: UserWarning: The use of label encoder in XGBClassifier is deprecated and will be removed in a future release. To remove this warning, do the following: 1) Pass option use_label_encoder=False when constructing XGBClassifier object; and 2) Encode your labels (y) as integers starting with 0, i.e. 0, 1, 2, ..., [num_class - 1].\n",
      "  warnings.warn(label_encoder_deprecation_msg, UserWarning)\n"
     ]
    },
    {
     "name": "stdout",
     "output_type": "stream",
     "text": [
      "[15:19:43] WARNING: C:/Users/Administrator/workspace/xgboost-win64_release_1.4.0/src/learner.cc:1095: Starting in XGBoost 1.3.0, the default evaluation metric used with the objective 'binary:logistic' was changed from 'error' to 'logloss'. Explicitly set eval_metric if you'd like to restore the old behavior.\n",
      "Threshold= 0.029999999329447746, n= 14, Acurácia: 61.48\n"
     ]
    },
    {
     "name": "stderr",
     "output_type": "stream",
     "text": [
      "C:\\Users\\85817570734\\Anaconda3\\lib\\site-packages\\xgboost\\sklearn.py:1146: UserWarning: The use of label encoder in XGBClassifier is deprecated and will be removed in a future release. To remove this warning, do the following: 1) Pass option use_label_encoder=False when constructing XGBClassifier object; and 2) Encode your labels (y) as integers starting with 0, i.e. 0, 1, 2, ..., [num_class - 1].\n",
      "  warnings.warn(label_encoder_deprecation_msg, UserWarning)\n"
     ]
    },
    {
     "name": "stdout",
     "output_type": "stream",
     "text": [
      "[15:19:45] WARNING: C:/Users/Administrator/workspace/xgboost-win64_release_1.4.0/src/learner.cc:1095: Starting in XGBoost 1.3.0, the default evaluation metric used with the objective 'binary:logistic' was changed from 'error' to 'logloss'. Explicitly set eval_metric if you'd like to restore the old behavior.\n",
      "Threshold= 0.03999999910593033, n= 13, Acurácia: 62.26\n"
     ]
    },
    {
     "name": "stderr",
     "output_type": "stream",
     "text": [
      "C:\\Users\\85817570734\\Anaconda3\\lib\\site-packages\\xgboost\\sklearn.py:1146: UserWarning: The use of label encoder in XGBClassifier is deprecated and will be removed in a future release. To remove this warning, do the following: 1) Pass option use_label_encoder=False when constructing XGBClassifier object; and 2) Encode your labels (y) as integers starting with 0, i.e. 0, 1, 2, ..., [num_class - 1].\n",
      "  warnings.warn(label_encoder_deprecation_msg, UserWarning)\n"
     ]
    },
    {
     "name": "stdout",
     "output_type": "stream",
     "text": [
      "[15:19:47] WARNING: C:/Users/Administrator/workspace/xgboost-win64_release_1.4.0/src/learner.cc:1095: Starting in XGBoost 1.3.0, the default evaluation metric used with the objective 'binary:logistic' was changed from 'error' to 'logloss'. Explicitly set eval_metric if you'd like to restore the old behavior.\n",
      "Threshold= 0.05999999865889549, n= 12, Acurácia: 60.53\n"
     ]
    },
    {
     "name": "stderr",
     "output_type": "stream",
     "text": [
      "C:\\Users\\85817570734\\Anaconda3\\lib\\site-packages\\xgboost\\sklearn.py:1146: UserWarning: The use of label encoder in XGBClassifier is deprecated and will be removed in a future release. To remove this warning, do the following: 1) Pass option use_label_encoder=False when constructing XGBClassifier object; and 2) Encode your labels (y) as integers starting with 0, i.e. 0, 1, 2, ..., [num_class - 1].\n",
      "  warnings.warn(label_encoder_deprecation_msg, UserWarning)\n"
     ]
    },
    {
     "name": "stdout",
     "output_type": "stream",
     "text": [
      "[15:19:48] WARNING: C:/Users/Administrator/workspace/xgboost-win64_release_1.4.0/src/learner.cc:1095: Starting in XGBoost 1.3.0, the default evaluation metric used with the objective 'binary:logistic' was changed from 'error' to 'logloss'. Explicitly set eval_metric if you'd like to restore the old behavior.\n",
      "Threshold= 0.05999999865889549, n= 11, Acurácia: 63.68\n"
     ]
    },
    {
     "name": "stderr",
     "output_type": "stream",
     "text": [
      "C:\\Users\\85817570734\\Anaconda3\\lib\\site-packages\\xgboost\\sklearn.py:1146: UserWarning: The use of label encoder in XGBClassifier is deprecated and will be removed in a future release. To remove this warning, do the following: 1) Pass option use_label_encoder=False when constructing XGBClassifier object; and 2) Encode your labels (y) as integers starting with 0, i.e. 0, 1, 2, ..., [num_class - 1].\n",
      "  warnings.warn(label_encoder_deprecation_msg, UserWarning)\n"
     ]
    },
    {
     "name": "stdout",
     "output_type": "stream",
     "text": [
      "[15:19:50] WARNING: C:/Users/Administrator/workspace/xgboost-win64_release_1.4.0/src/learner.cc:1095: Starting in XGBoost 1.3.0, the default evaluation metric used with the objective 'binary:logistic' was changed from 'error' to 'logloss'. Explicitly set eval_metric if you'd like to restore the old behavior.\n",
      "Threshold= 0.07000000029802322, n= 10, Acurácia: 63.21\n"
     ]
    },
    {
     "name": "stderr",
     "output_type": "stream",
     "text": [
      "C:\\Users\\85817570734\\Anaconda3\\lib\\site-packages\\xgboost\\sklearn.py:1146: UserWarning: The use of label encoder in XGBClassifier is deprecated and will be removed in a future release. To remove this warning, do the following: 1) Pass option use_label_encoder=False when constructing XGBClassifier object; and 2) Encode your labels (y) as integers starting with 0, i.e. 0, 1, 2, ..., [num_class - 1].\n",
      "  warnings.warn(label_encoder_deprecation_msg, UserWarning)\n"
     ]
    },
    {
     "name": "stdout",
     "output_type": "stream",
     "text": [
      "[15:19:52] WARNING: C:/Users/Administrator/workspace/xgboost-win64_release_1.4.0/src/learner.cc:1095: Starting in XGBoost 1.3.0, the default evaluation metric used with the objective 'binary:logistic' was changed from 'error' to 'logloss'. Explicitly set eval_metric if you'd like to restore the old behavior.\n",
      "Threshold= 0.07000000029802322, n= 9, Acurácia: 62.26\n"
     ]
    },
    {
     "name": "stderr",
     "output_type": "stream",
     "text": [
      "C:\\Users\\85817570734\\Anaconda3\\lib\\site-packages\\xgboost\\sklearn.py:1146: UserWarning: The use of label encoder in XGBClassifier is deprecated and will be removed in a future release. To remove this warning, do the following: 1) Pass option use_label_encoder=False when constructing XGBClassifier object; and 2) Encode your labels (y) as integers starting with 0, i.e. 0, 1, 2, ..., [num_class - 1].\n",
      "  warnings.warn(label_encoder_deprecation_msg, UserWarning)\n"
     ]
    },
    {
     "name": "stdout",
     "output_type": "stream",
     "text": [
      "[15:19:54] WARNING: C:/Users/Administrator/workspace/xgboost-win64_release_1.4.0/src/learner.cc:1095: Starting in XGBoost 1.3.0, the default evaluation metric used with the objective 'binary:logistic' was changed from 'error' to 'logloss'. Explicitly set eval_metric if you'd like to restore the old behavior.\n",
      "Threshold= 0.07000000029802322, n= 8, Acurácia: 63.21\n"
     ]
    },
    {
     "name": "stderr",
     "output_type": "stream",
     "text": [
      "C:\\Users\\85817570734\\Anaconda3\\lib\\site-packages\\xgboost\\sklearn.py:1146: UserWarning: The use of label encoder in XGBClassifier is deprecated and will be removed in a future release. To remove this warning, do the following: 1) Pass option use_label_encoder=False when constructing XGBClassifier object; and 2) Encode your labels (y) as integers starting with 0, i.e. 0, 1, 2, ..., [num_class - 1].\n",
      "  warnings.warn(label_encoder_deprecation_msg, UserWarning)\n"
     ]
    },
    {
     "name": "stdout",
     "output_type": "stream",
     "text": [
      "[15:19:56] WARNING: C:/Users/Administrator/workspace/xgboost-win64_release_1.4.0/src/learner.cc:1095: Starting in XGBoost 1.3.0, the default evaluation metric used with the objective 'binary:logistic' was changed from 'error' to 'logloss'. Explicitly set eval_metric if you'd like to restore the old behavior.\n",
      "Threshold= 0.07999999821186066, n= 7, Acurácia: 63.68\n"
     ]
    },
    {
     "name": "stderr",
     "output_type": "stream",
     "text": [
      "C:\\Users\\85817570734\\Anaconda3\\lib\\site-packages\\xgboost\\sklearn.py:1146: UserWarning: The use of label encoder in XGBClassifier is deprecated and will be removed in a future release. To remove this warning, do the following: 1) Pass option use_label_encoder=False when constructing XGBClassifier object; and 2) Encode your labels (y) as integers starting with 0, i.e. 0, 1, 2, ..., [num_class - 1].\n",
      "  warnings.warn(label_encoder_deprecation_msg, UserWarning)\n"
     ]
    },
    {
     "name": "stdout",
     "output_type": "stream",
     "text": [
      "[15:19:58] WARNING: C:/Users/Administrator/workspace/xgboost-win64_release_1.4.0/src/learner.cc:1095: Starting in XGBoost 1.3.0, the default evaluation metric used with the objective 'binary:logistic' was changed from 'error' to 'logloss'. Explicitly set eval_metric if you'd like to restore the old behavior.\n",
      "Threshold= 0.07999999821186066, n= 6, Acurácia: 62.89\n"
     ]
    },
    {
     "name": "stderr",
     "output_type": "stream",
     "text": [
      "C:\\Users\\85817570734\\Anaconda3\\lib\\site-packages\\xgboost\\sklearn.py:1146: UserWarning: The use of label encoder in XGBClassifier is deprecated and will be removed in a future release. To remove this warning, do the following: 1) Pass option use_label_encoder=False when constructing XGBClassifier object; and 2) Encode your labels (y) as integers starting with 0, i.e. 0, 1, 2, ..., [num_class - 1].\n",
      "  warnings.warn(label_encoder_deprecation_msg, UserWarning)\n"
     ]
    },
    {
     "name": "stdout",
     "output_type": "stream",
     "text": [
      "[15:20:00] WARNING: C:/Users/Administrator/workspace/xgboost-win64_release_1.4.0/src/learner.cc:1095: Starting in XGBoost 1.3.0, the default evaluation metric used with the objective 'binary:logistic' was changed from 'error' to 'logloss'. Explicitly set eval_metric if you'd like to restore the old behavior.\n",
      "Threshold= 0.07999999821186066, n= 5, Acurácia: 61.95\n"
     ]
    },
    {
     "name": "stderr",
     "output_type": "stream",
     "text": [
      "C:\\Users\\85817570734\\Anaconda3\\lib\\site-packages\\xgboost\\sklearn.py:1146: UserWarning: The use of label encoder in XGBClassifier is deprecated and will be removed in a future release. To remove this warning, do the following: 1) Pass option use_label_encoder=False when constructing XGBClassifier object; and 2) Encode your labels (y) as integers starting with 0, i.e. 0, 1, 2, ..., [num_class - 1].\n",
      "  warnings.warn(label_encoder_deprecation_msg, UserWarning)\n"
     ]
    },
    {
     "name": "stdout",
     "output_type": "stream",
     "text": [
      "[15:20:02] WARNING: C:/Users/Administrator/workspace/xgboost-win64_release_1.4.0/src/learner.cc:1095: Starting in XGBoost 1.3.0, the default evaluation metric used with the objective 'binary:logistic' was changed from 'error' to 'logloss'. Explicitly set eval_metric if you'd like to restore the old behavior.\n",
      "Threshold= 0.07999999821186066, n= 4, Acurácia: 63.52\n"
     ]
    },
    {
     "name": "stderr",
     "output_type": "stream",
     "text": [
      "C:\\Users\\85817570734\\Anaconda3\\lib\\site-packages\\xgboost\\sklearn.py:1146: UserWarning: The use of label encoder in XGBClassifier is deprecated and will be removed in a future release. To remove this warning, do the following: 1) Pass option use_label_encoder=False when constructing XGBClassifier object; and 2) Encode your labels (y) as integers starting with 0, i.e. 0, 1, 2, ..., [num_class - 1].\n",
      "  warnings.warn(label_encoder_deprecation_msg, UserWarning)\n"
     ]
    },
    {
     "name": "stdout",
     "output_type": "stream",
     "text": [
      "[15:20:04] WARNING: C:/Users/Administrator/workspace/xgboost-win64_release_1.4.0/src/learner.cc:1095: Starting in XGBoost 1.3.0, the default evaluation metric used with the objective 'binary:logistic' was changed from 'error' to 'logloss'. Explicitly set eval_metric if you'd like to restore the old behavior.\n",
      "Threshold= 0.07999999821186066, n= 3, Acurácia: 63.99\n"
     ]
    },
    {
     "name": "stderr",
     "output_type": "stream",
     "text": [
      "C:\\Users\\85817570734\\Anaconda3\\lib\\site-packages\\xgboost\\sklearn.py:1146: UserWarning: The use of label encoder in XGBClassifier is deprecated and will be removed in a future release. To remove this warning, do the following: 1) Pass option use_label_encoder=False when constructing XGBClassifier object; and 2) Encode your labels (y) as integers starting with 0, i.e. 0, 1, 2, ..., [num_class - 1].\n",
      "  warnings.warn(label_encoder_deprecation_msg, UserWarning)\n"
     ]
    },
    {
     "name": "stdout",
     "output_type": "stream",
     "text": [
      "[15:20:06] WARNING: C:/Users/Administrator/workspace/xgboost-win64_release_1.4.0/src/learner.cc:1095: Starting in XGBoost 1.3.0, the default evaluation metric used with the objective 'binary:logistic' was changed from 'error' to 'logloss'. Explicitly set eval_metric if you'd like to restore the old behavior.\n",
      "Threshold= 0.09000000357627869, n= 2, Acurácia: 63.36\n"
     ]
    },
    {
     "name": "stderr",
     "output_type": "stream",
     "text": [
      "C:\\Users\\85817570734\\Anaconda3\\lib\\site-packages\\xgboost\\sklearn.py:1146: UserWarning: The use of label encoder in XGBClassifier is deprecated and will be removed in a future release. To remove this warning, do the following: 1) Pass option use_label_encoder=False when constructing XGBClassifier object; and 2) Encode your labels (y) as integers starting with 0, i.e. 0, 1, 2, ..., [num_class - 1].\n",
      "  warnings.warn(label_encoder_deprecation_msg, UserWarning)\n"
     ]
    },
    {
     "name": "stdout",
     "output_type": "stream",
     "text": [
      "[15:20:08] WARNING: C:/Users/Administrator/workspace/xgboost-win64_release_1.4.0/src/learner.cc:1095: Starting in XGBoost 1.3.0, the default evaluation metric used with the objective 'binary:logistic' was changed from 'error' to 'logloss'. Explicitly set eval_metric if you'd like to restore the old behavior.\n",
      "Threshold= 0.10000000149011612, n= 1, Acurácia: 63.21\n"
     ]
    }
   ],
   "source": [
    "# Ajusta o algoritmo usando cada importância calculada como threshold\n",
    "from sklearn.feature_selection import SelectFromModel\n",
    "\n",
    "thresholds = sorted(clf.feature_importances_)\n",
    "for thresh in thresholds:\n",
    "\t# seleciona as features usando threshold\n",
    "\tselection = SelectFromModel(clf, threshold=thresh, prefit=True)\n",
    "\tselect_X_treinamento = selection.transform(X_treinamento)\n",
    "\t\n",
    "    # treina o ML\n",
    "\tselection_clf = XGBClassifier()\n",
    "\tselection_clf.fit(select_X_treinamento, y_treinamento)\n",
    "\t\n",
    "    # Avalia o ML\n",
    "\tselect_X_teste = selection.transform(X_teste)\n",
    "\ty_pred = selection_clf.predict(select_X_teste)\n",
    "\tpredictions = [round(value) for value in y_pred]\n",
    "\taccuracy = accuracy_score(y_teste, predictions)\n",
    "\tprint(f\"Threshold= {round(thresh,2)}, n= {select_X_treinamento.shape[1]}, Acurácia: {round(accuracy*100.0,2)}\")"
   ]
  },
  {
   "cell_type": "code",
   "execution_count": 90,
   "metadata": {},
   "outputs": [
    {
     "data": {
      "image/png": "[encoded data removed]",
      "text/plain": [
       "<Figure size 432x288 with 1 Axes>"
      ]
     },
     "metadata": {
      "needs_background": "light"
     },
     "output_type": "display_data"
    }
   ],
   "source": [
    "# Calcula a importância das features\n",
    "importances = clf.feature_importances_\n",
    "\n",
    "# Ordena as importâncias por ordem descendente\n",
    "indices = np.argsort(importances)[::-1]\n",
    "\n",
    "# Organiza...\n",
    "names = [X_treinamento.columns[i] for i in indices]\n",
    "\n",
    "# Barplot\n",
    "plt.bar(range(X_treinamento.shape[1]), importances[indices])\n",
    "\n",
    "# Coloca o nome dos labels no eixo X\n",
    "plt.xticks(range(X_treinamento.shape[1]), names, rotation=20, fontsize = 6)\n",
    "\n",
    "# Constroi o gráfico\n",
    "plt.title(\"Feature Importance\")\n",
    "\n",
    "# Mostra o gráfico\n",
    "plt.show()"
   ]
  },
  {
   "cell_type": "code",
   "execution_count": 91,
   "metadata": {},
   "outputs": [
    {
     "data": {
      "text/plain": [
       "['Faixa Renda',\n",
       " 'Le_PF1',\n",
       " 'HTrab_cat',\n",
       " 'Le_PF3',\n",
       " 'Faixa Autuado',\n",
       " 'Dm_Tributo-Previdência',\n",
       " 'Faixa Patrimonio',\n",
       " 'Le_PF4',\n",
       " 'Le_PF5',\n",
       " 'Le_Nat_Ocup_Principal',\n",
       " 'Idade_cat',\n",
       " 'PF2_cat',\n",
       " 'Dm_Tributo-Outros',\n",
       " 'Declaracao']"
      ]
     },
     "execution_count": 91,
     "metadata": {},
     "output_type": "execute_result"
    }
   ],
   "source": [
    "names"
   ]
  },
  {
   "cell_type": "code",
   "execution_count": 92,
   "metadata": {},
   "outputs": [
    {
     "data": {
      "text/plain": [
       "array([ True,  True,  True, False,  True,  True,  True, False, False,\n",
       "       False, False, False,  True, False])"
      ]
     },
     "execution_count": 92,
     "metadata": {},
     "output_type": "execute_result"
    }
   ],
   "source": [
    "XGB = np.array([True,True,True,False,True,True,True,False,False,False,False,False,True,False])\n",
    "XGB"
   ]
  },
  {
   "cell_type": "markdown",
   "metadata": {},
   "source": [
    "## Seleção eleita"
   ]
  },
  {
   "cell_type": "code",
   "execution_count": 93,
   "metadata": {},
   "outputs": [
    {
     "data": {
      "text/plain": [
       "Index(['Faixa Autuado', 'Faixa Patrimonio', 'Faixa Renda', 'Dm_Tributo-Outros',\n",
       "       'Dm_Tributo-Previdência', 'Le_PF1', 'Le_PF3', 'Le_PF4', 'Le_PF5',\n",
       "       'Declaracao', 'Le_Nat_Ocup_Principal', 'PF2_cat', 'HTrab_cat',\n",
       "       'Idade_cat'],\n",
       "      dtype='object')"
      ]
     },
     "execution_count": 93,
     "metadata": {},
     "output_type": "execute_result"
    }
   ],
   "source": [
    "df_explicativas.columns"
   ]
  },
  {
   "cell_type": "code",
   "execution_count": 94,
   "metadata": {},
   "outputs": [
    {
     "data": {
      "text/html": [
       "<div>\n",
       "<style scoped>\n",
       "    .dataframe tbody tr th:only-of-type {\n",
       "        vertical-align: middle;\n",
       "    }\n",
       "\n",
       "    .dataframe tbody tr th {\n",
       "        vertical-align: top;\n",
       "    }\n",
       "\n",
       "    .dataframe thead th {\n",
       "        text-align: right;\n",
       "    }\n",
       "</style>\n",
       "<table border=\"1\" class=\"dataframe\">\n",
       "  <thead>\n",
       "    <tr style=\"text-align: right;\">\n",
       "      <th></th>\n",
       "      <th>Variáveis</th>\n",
       "      <th>LRS</th>\n",
       "      <th>RFC</th>\n",
       "      <th>XGBoost</th>\n",
       "      <th>Total</th>\n",
       "    </tr>\n",
       "  </thead>\n",
       "  <tbody>\n",
       "    <tr>\n",
       "      <th>2</th>\n",
       "      <td>Faixa Renda</td>\n",
       "      <td>True</td>\n",
       "      <td>True</td>\n",
       "      <td>True</td>\n",
       "      <td>3</td>\n",
       "    </tr>\n",
       "    <tr>\n",
       "      <th>1</th>\n",
       "      <td>Faixa Patrimonio</td>\n",
       "      <td>True</td>\n",
       "      <td>True</td>\n",
       "      <td>True</td>\n",
       "      <td>3</td>\n",
       "    </tr>\n",
       "    <tr>\n",
       "      <th>0</th>\n",
       "      <td>Faixa Autuado</td>\n",
       "      <td>True</td>\n",
       "      <td>True</td>\n",
       "      <td>True</td>\n",
       "      <td>3</td>\n",
       "    </tr>\n",
       "    <tr>\n",
       "      <th>5</th>\n",
       "      <td>Le_PF1</td>\n",
       "      <td>True</td>\n",
       "      <td>False</td>\n",
       "      <td>True</td>\n",
       "      <td>2</td>\n",
       "    </tr>\n",
       "    <tr>\n",
       "      <th>4</th>\n",
       "      <td>Dm_Tributo-Previdência</td>\n",
       "      <td>True</td>\n",
       "      <td>False</td>\n",
       "      <td>True</td>\n",
       "      <td>2</td>\n",
       "    </tr>\n",
       "    <tr>\n",
       "      <th>6</th>\n",
       "      <td>Le_PF3</td>\n",
       "      <td>False</td>\n",
       "      <td>False</td>\n",
       "      <td>True</td>\n",
       "      <td>1</td>\n",
       "    </tr>\n",
       "    <tr>\n",
       "      <th>10</th>\n",
       "      <td>Le_Nat_Ocup_Principal</td>\n",
       "      <td>False</td>\n",
       "      <td>True</td>\n",
       "      <td>False</td>\n",
       "      <td>1</td>\n",
       "    </tr>\n",
       "    <tr>\n",
       "      <th>13</th>\n",
       "      <td>Idade_cat</td>\n",
       "      <td>False</td>\n",
       "      <td>True</td>\n",
       "      <td>False</td>\n",
       "      <td>1</td>\n",
       "    </tr>\n",
       "    <tr>\n",
       "      <th>12</th>\n",
       "      <td>HTrab_cat</td>\n",
       "      <td>False</td>\n",
       "      <td>False</td>\n",
       "      <td>True</td>\n",
       "      <td>1</td>\n",
       "    </tr>\n",
       "    <tr>\n",
       "      <th>11</th>\n",
       "      <td>PF2_cat</td>\n",
       "      <td>False</td>\n",
       "      <td>False</td>\n",
       "      <td>False</td>\n",
       "      <td>0</td>\n",
       "    </tr>\n",
       "    <tr>\n",
       "      <th>8</th>\n",
       "      <td>Le_PF5</td>\n",
       "      <td>False</td>\n",
       "      <td>False</td>\n",
       "      <td>False</td>\n",
       "      <td>0</td>\n",
       "    </tr>\n",
       "    <tr>\n",
       "      <th>7</th>\n",
       "      <td>Le_PF4</td>\n",
       "      <td>False</td>\n",
       "      <td>False</td>\n",
       "      <td>False</td>\n",
       "      <td>0</td>\n",
       "    </tr>\n",
       "    <tr>\n",
       "      <th>3</th>\n",
       "      <td>Dm_Tributo-Outros</td>\n",
       "      <td>False</td>\n",
       "      <td>False</td>\n",
       "      <td>False</td>\n",
       "      <td>0</td>\n",
       "    </tr>\n",
       "    <tr>\n",
       "      <th>9</th>\n",
       "      <td>Declaracao</td>\n",
       "      <td>False</td>\n",
       "      <td>False</td>\n",
       "      <td>False</td>\n",
       "      <td>0</td>\n",
       "    </tr>\n",
       "  </tbody>\n",
       "</table>\n",
       "</div>"
      ],
      "text/plain": [
       "                 Variáveis    LRS    RFC  XGBoost  Total\n",
       "2              Faixa Renda   True   True     True      3\n",
       "1         Faixa Patrimonio   True   True     True      3\n",
       "0            Faixa Autuado   True   True     True      3\n",
       "5                   Le_PF1   True  False     True      2\n",
       "4   Dm_Tributo-Previdência   True  False     True      2\n",
       "6                   Le_PF3  False  False     True      1\n",
       "10   Le_Nat_Ocup_Principal  False   True    False      1\n",
       "13               Idade_cat  False   True    False      1\n",
       "12               HTrab_cat  False  False     True      1\n",
       "11                 PF2_cat  False  False    False      0\n",
       "8                   Le_PF5  False  False    False      0\n",
       "7                   Le_PF4  False  False    False      0\n",
       "3        Dm_Tributo-Outros  False  False    False      0\n",
       "9               Declaracao  False  False    False      0"
      ]
     },
     "execution_count": 94,
     "metadata": {},
     "output_type": "execute_result"
    }
   ],
   "source": [
    "feature_selection_df = pd.DataFrame({'Variáveis': df_explicativas.columns, #  cria coluna \"Variaveis' com conteúdo igual nome das colunas\n",
    "                                    'LRS': LRS, \n",
    "                                    'RFC': emb_support,\n",
    "                                    'XGBoost':XGB})\n",
    "\n",
    "feature_selection_df['Total'] = np.sum(feature_selection_df, axis=1) # cria coluna 'Total' com somatório dos valores True.\n",
    "                                                            # axis = 1 significa que está somando valores das colunas.\n",
    "feature_selection_df = feature_selection_df.sort_values(['Total','Variáveis'],\n",
    "                                                       ascending=False)\n",
    "feature_selection_df"
   ]
  },
  {
   "cell_type": "markdown",
   "metadata": {},
   "source": [
    "### Criando o DataFrame com as variáveis selecionadas"
   ]
  },
  {
   "cell_type": "code",
   "execution_count": 95,
   "metadata": {},
   "outputs": [
    {
     "data": {
      "text/html": [
       "<div>\n",
       "<style scoped>\n",
       "    .dataframe tbody tr th:only-of-type {\n",
       "        vertical-align: middle;\n",
       "    }\n",
       "\n",
       "    .dataframe tbody tr th {\n",
       "        vertical-align: top;\n",
       "    }\n",
       "\n",
       "    .dataframe thead th {\n",
       "        text-align: right;\n",
       "    }\n",
       "</style>\n",
       "<table border=\"1\" class=\"dataframe\">\n",
       "  <thead>\n",
       "    <tr style=\"text-align: right;\">\n",
       "      <th></th>\n",
       "      <th>Faixa Renda</th>\n",
       "      <th>Faixa Patrimonio</th>\n",
       "      <th>Faixa Autuado</th>\n",
       "      <th>Le_PF1</th>\n",
       "    </tr>\n",
       "    <tr>\n",
       "      <th>Linha</th>\n",
       "      <th></th>\n",
       "      <th></th>\n",
       "      <th></th>\n",
       "      <th></th>\n",
       "    </tr>\n",
       "  </thead>\n",
       "  <tbody>\n",
       "    <tr>\n",
       "      <th>78</th>\n",
       "      <td>1</td>\n",
       "      <td>4</td>\n",
       "      <td>1</td>\n",
       "      <td>0</td>\n",
       "    </tr>\n",
       "    <tr>\n",
       "      <th>192</th>\n",
       "      <td>2</td>\n",
       "      <td>2</td>\n",
       "      <td>1</td>\n",
       "      <td>0</td>\n",
       "    </tr>\n",
       "    <tr>\n",
       "      <th>671</th>\n",
       "      <td>2</td>\n",
       "      <td>4</td>\n",
       "      <td>1</td>\n",
       "      <td>0</td>\n",
       "    </tr>\n",
       "    <tr>\n",
       "      <th>1859</th>\n",
       "      <td>3</td>\n",
       "      <td>4</td>\n",
       "      <td>1</td>\n",
       "      <td>0</td>\n",
       "    </tr>\n",
       "    <tr>\n",
       "      <th>2727</th>\n",
       "      <td>2</td>\n",
       "      <td>2</td>\n",
       "      <td>1</td>\n",
       "      <td>0</td>\n",
       "    </tr>\n",
       "  </tbody>\n",
       "</table>\n",
       "</div>"
      ],
      "text/plain": [
       "       Faixa Renda  Faixa Patrimonio  Faixa Autuado  Le_PF1\n",
       "Linha                                                      \n",
       "78               1                 4              1       0\n",
       "192              2                 2              1       0\n",
       "671              2                 4              1       0\n",
       "1859             3                 4              1       0\n",
       "2727             2                 2              1       0"
      ]
     },
     "execution_count": 95,
     "metadata": {},
     "output_type": "execute_result"
    }
   ],
   "source": [
    "df_selec = df_explicativas[['Faixa Renda','Faixa Patrimonio','Faixa Autuado','Le_PF1']]\n",
    "df_selec.head()"
   ]
  },
  {
   "cell_type": "markdown",
   "metadata": {},
   "source": [
    "### Separando os dados para Treino e Teste"
   ]
  },
  {
   "cell_type": "code",
   "execution_count": 96,
   "metadata": {},
   "outputs": [],
   "source": [
    "# Separamos os dados em 80% para Treino e 20% para Teste\n",
    "from sklearn.model_selection import train_test_split \n",
    "X_treinamento, X_teste, y_treinamento, y_teste = train_test_split(df_selec,df_target,test_size=0.2,random_state=196)      "
   ]
  },
  {
   "cell_type": "markdown",
   "metadata": {},
   "source": [
    "# Criação dos Modelos de Machine Learning"
   ]
  },
  {
   "cell_type": "code",
   "execution_count": 97,
   "metadata": {},
   "outputs": [],
   "source": [
    "# Importando as bibliotecas\n",
    "from sklearn.model_selection import GridSearchCV # para otimizar os hiperparâmetros dos modelos preditivos\n",
    "from sklearn.model_selection import cross_val_score # Para o CV (Cross-Validation)\n",
    "from sklearn.model_selection import cross_validate"
   ]
  },
  {
   "cell_type": "markdown",
   "metadata": {},
   "source": [
    "## Modelo XGBoost (Extreme Gradient Boosting)"
   ]
  },
  {
   "cell_type": "code",
   "execution_count": 98,
   "metadata": {},
   "outputs": [],
   "source": [
    "# Importando as Bibliotecas\n",
    "from xgboost import XGBClassifier\n",
    "import xgboost as xgb"
   ]
  },
  {
   "cell_type": "code",
   "execution_count": 99,
   "metadata": {},
   "outputs": [
    {
     "name": "stderr",
     "output_type": "stream",
     "text": [
      "C:\\Users\\85817570734\\Anaconda3\\lib\\site-packages\\xgboost\\sklearn.py:1146: UserWarning: The use of label encoder in XGBClassifier is deprecated and will be removed in a future release. To remove this warning, do the following: 1) Pass option use_label_encoder=False when constructing XGBClassifier object; and 2) Encode your labels (y) as integers starting with 0, i.e. 0, 1, 2, ..., [num_class - 1].\n",
      "  warnings.warn(label_encoder_deprecation_msg, UserWarning)\n"
     ]
    },
    {
     "data": {
      "text/plain": [
       "XGBClassifier(base_score=0.5, booster='gbtree', colsample_bylevel=1,\n",
       "              colsample_bynode=1, colsample_bytree=1, eval_metric='logloss',\n",
       "              gamma=1, gpu_id=-1, importance_type='gain',\n",
       "              interaction_constraints='', learning_rate=0.01, max_delta_step=5,\n",
       "              max_depth=3, min_child_weight=1, missing=nan,\n",
       "              monotone_constraints='()', n_estimators=1000, n_jobs=8,\n",
       "              num_parallel_tree=1, random_state=0, reg_alpha=0.3, reg_lambda=1,\n",
       "              scale_pos_weight=1, subsample=0.8, tree_method='exact',\n",
       "              validate_parameters=1, verbosity=None)"
      ]
     },
     "execution_count": 99,
     "metadata": {},
     "output_type": "execute_result"
    }
   ],
   "source": [
    "# Instancia...\n",
    "ml_XGB = XGBClassifier(scale_pos_weight=1,\n",
    "                       learning_rate=0.01,  \n",
    "                       colsample_bytree = 1,\n",
    "                       subsample = 0.8,\n",
    "                       objective='binary:logistic',\n",
    "                       eval_metric='logloss',\n",
    "                       n_estimators=1000, \n",
    "                       reg_alpha = 0.3,\n",
    "                       max_depth= 3, \n",
    "                       gamma=1, \n",
    "                       max_delta_step=5)\n",
    "ml_XGB.fit(X_treinamento, y_treinamento)"
   ]
  },
  {
   "cell_type": "code",
   "execution_count": 100,
   "metadata": {},
   "outputs": [
    {
     "name": "stderr",
     "output_type": "stream",
     "text": [
      "C:\\Users\\85817570734\\Anaconda3\\lib\\site-packages\\xgboost\\sklearn.py:1146: UserWarning: The use of label encoder in XGBClassifier is deprecated and will be removed in a future release. To remove this warning, do the following: 1) Pass option use_label_encoder=False when constructing XGBClassifier object; and 2) Encode your labels (y) as integers starting with 0, i.e. 0, 1, 2, ..., [num_class - 1].\n",
      "  warnings.warn(label_encoder_deprecation_msg, UserWarning)\n"
     ]
    },
    {
     "name": "stdout",
     "output_type": "stream",
     "text": [
      "Média das Acurácias calculadas pelo CV....: 65.36\n",
      "std médio das Acurácias calculadas pelo CV: 2.74\n",
      "Acurácias: [0.63529412 0.69019608 0.63921569 0.6496063  0.70866142 0.67322835\n",
      " 0.63385827 0.65354331 0.63779528 0.61417323]\n"
     ]
    }
   ],
   "source": [
    "# Cross-Validation com 10 folds\n",
    "a_scores_CV = cross_val_score(ml_XGB, X_treinamento, y_treinamento, cv = 10)\n",
    "print(f'Média das Acurácias calculadas pelo CV....: {100*round(a_scores_CV.mean(),4)}')\n",
    "print(f'std médio das Acurácias calculadas pelo CV: {100*round(a_scores_CV.std(),4)}')\n",
    "print(f'Acurácias: {a_scores_CV}')"
   ]
  },
  {
   "cell_type": "markdown",
   "metadata": {},
   "source": [
    "## Medindo a acurária com os dados de teste"
   ]
  },
  {
   "cell_type": "code",
   "execution_count": 101,
   "metadata": {},
   "outputs": [],
   "source": [
    "# Rodando o algoritmo XGBoost com a base de Teste\n",
    "y_pred_XGB = ml_XGB.predict(X_teste)"
   ]
  },
  {
   "cell_type": "code",
   "execution_count": 102,
   "metadata": {},
   "outputs": [
    {
     "name": "stdout",
     "output_type": "stream",
     "text": [
      "              precision    recall  f1-score   support\n",
      "\n",
      "           0       0.71      0.50      0.58       318\n",
      "           1       0.61      0.79      0.69       318\n",
      "\n",
      "    accuracy                           0.64       636\n",
      "   macro avg       0.66      0.64      0.64       636\n",
      "weighted avg       0.66      0.64      0.64       636\n",
      "\n",
      "Acurácia de Previsão: 0.6446540880503144\n"
     ]
    }
   ],
   "source": [
    "from sklearn.metrics import classification_report\n",
    "print(classification_report(y_teste, y_pred_XGB, target_names=['0','1']))\n",
    "print(\"Acurácia de Previsão:\", accuracy_score(y_teste, y_pred_XGB) )"
   ]
  },
  {
   "cell_type": "markdown",
   "metadata": {},
   "source": [
    "# Matriz de Confusão"
   ]
  },
  {
   "cell_type": "code",
   "execution_count": 103,
   "metadata": {},
   "outputs": [],
   "source": [
    "# Importando a biblioteca\n",
    "from sklearn.metrics import confusion_matrix"
   ]
  },
  {
   "cell_type": "code",
   "execution_count": 104,
   "metadata": {},
   "outputs": [],
   "source": [
    "def mostra_confusion_matrix(cf,                   # dados da matriz de confusão\n",
    "                            group_names = None,   # lista das labels mostradas em cada quadrado\n",
    "                            categories = 'auto',  # lista das categorias mostradas nos eixos x e y\n",
    "                            count = True,         # se True, mostra as quantidades em cada quadrado\n",
    "                            percent = True,       # se True, mostra os percentuais em cada quadrado\n",
    "                            cbar = True,          # se True, mostra uma barra de cores. Os valores da barra são baseados nos dados\n",
    "                            xyticks = False,      # se True, mostra a marcação de x e y\n",
    "                            xyplotlabels = False, # se True, mostra 'True Label' e 'Predicted Label'\n",
    "                            figsize = (4, 4),     \n",
    "                            cmap = 'Blues'):\n",
    "    \n",
    "    # Gera o texto dentro de cada quadrado\n",
    "    blanks = ['' for i in range(cf.size)]\n",
    "\n",
    "    if group_names and len(group_names)==cf.size:\n",
    "        group_labels = [\"{}\\n\".format(value) for value in group_names]\n",
    "    else:\n",
    "        group_labels = blanks\n",
    "\n",
    "    if count:\n",
    "        group_counts = [\"{0:0.0f}\\n\".format(value) for value in cf.flatten()]\n",
    "    else:\n",
    "        group_counts = blanks\n",
    "\n",
    "    if percent:\n",
    "        group_percentages = [\"{0:.2%}\".format(value) for value in cf.flatten()/np.sum(cf)]\n",
    "    else:\n",
    "        group_percentages = blanks\n",
    "\n",
    "    box_labels = [f\"{v1}{v2}{v3}\".strip() for v1, v2, v3 in zip(group_labels,group_counts,group_percentages)]\n",
    "    box_labels = np.asarray(box_labels).reshape(cf.shape[0],cf.shape[1])\n",
    "\n",
    "    # SET FIGURE PARAMETERS ACCORDING TO OTHER ARGUMENTS\n",
    "    if figsize==None:\n",
    "        #Get default figure size if not set\n",
    "        figsize = plt.rcParams.get('figure.figsize')\n",
    "\n",
    "    if xyticks==False:\n",
    "        #Do not show categories if xyticks is False\n",
    "        categories=False\n",
    "\n",
    "    # Plota o mapa de calor\n",
    "    plt.figure(figsize=figsize)\n",
    "    sns.heatmap(cf,annot=box_labels,fmt=\"\",cmap=cmap,cbar=cbar,xticklabels=categories,yticklabels=categories)\n",
    "\n",
    "    if xyplotlabels:\n",
    "        plt.ylabel('True label')\n",
    "   "
   ]
  },
  {
   "cell_type": "markdown",
   "metadata": {},
   "source": [
    "### Gerando a Matriz de Confusão para o algoritmo XGBoost"
   ]
  },
  {
   "cell_type": "code",
   "execution_count": 105,
   "metadata": {},
   "outputs": [
    {
     "name": "stdout",
     "output_type": "stream",
     "text": [
      "\n",
      "********* MATRIZ DE CONFUSÃO - TUNNING DE PARÂMETROS ***********\n"
     ]
    },
    {
     "data": {
      "image/png": "[encoded data removed]",
      "text/plain": [
       "<Figure size 288x288 with 2 Axes>"
      ]
     },
     "metadata": {
      "needs_background": "light"
     },
     "output_type": "display_data"
    }
   ],
   "source": [
    "# Matriz de Confusão\n",
    "print(f'\\n********* MATRIZ DE CONFUSÃO - TUNNING DE PARÂMETROS ***********')\n",
    "cf_matrix = confusion_matrix(y_teste, y_pred_XGB)\n",
    "cf_labels = ['True_Negative', 'False_Positive', 'False_Negative', 'True_Positive']\n",
    "cf_categories = ['Zero', 'One']\n",
    "mostra_confusion_matrix(cf_matrix, group_names = cf_labels, categories = cf_categories)"
   ]
  },
  {
   "cell_type": "markdown",
   "metadata": {},
   "source": [
    "# Modelo Logistic Regression"
   ]
  },
  {
   "cell_type": "code",
   "execution_count": 106,
   "metadata": {},
   "outputs": [],
   "source": [
    "# Importando a biblioteca\n",
    "from sklearn.linear_model import LogisticRegression"
   ]
  },
  {
   "cell_type": "code",
   "execution_count": 107,
   "metadata": {},
   "outputs": [],
   "source": [
    "# Criando dicionário com os hiperparâmetros\n",
    "LR_dict= {\"C\":np.logspace(-3,3,7),\n",
    "          \"penalty\":[\"l2\"],\n",
    "          'random_state': [1967]}"
   ]
  },
  {
   "cell_type": "code",
   "execution_count": 108,
   "metadata": {},
   "outputs": [
    {
     "data": {
      "text/plain": [
       "GridSearchCV(cv=10, estimator=LogisticRegression(random_state=1967),\n",
       "             param_grid={'C': array([1.e-03, 1.e-02, 1.e-01, 1.e+00, 1.e+01, 1.e+02, 1.e+03]),\n",
       "                         'penalty': ['l2'], 'random_state': [1967]},\n",
       "             scoring='accuracy')"
      ]
     },
     "execution_count": 108,
     "metadata": {},
     "output_type": "execute_result"
    }
   ],
   "source": [
    "# Treinando com a Regressão Logística\n",
    "LR = LogisticRegression(random_state=1967)\n",
    "LR_grid = GridSearchCV(estimator=LR,       # modelo logistic Regression\n",
    "                      param_grid=LR_dict,  # dicionario com parametros\n",
    "                      scoring='accuracy',  # parametro de validação: acurácia                    \n",
    "                      cv=10)               # cross-validation = 10 folds\n",
    "LR_grid.fit(X_treinamento, y_treinamento)"
   ]
  },
  {
   "cell_type": "code",
   "execution_count": 109,
   "metadata": {},
   "outputs": [
    {
     "data": {
      "text/plain": [
       "{'C': 1.0, 'penalty': 'l2', 'random_state': 1967}"
      ]
     },
     "execution_count": 109,
     "metadata": {},
     "output_type": "execute_result"
    }
   ],
   "source": [
    "LR_grid.best_params_"
   ]
  },
  {
   "cell_type": "code",
   "execution_count": 110,
   "metadata": {},
   "outputs": [
    {
     "data": {
      "text/plain": [
       "0.6366435077968194"
      ]
     },
     "execution_count": 110,
     "metadata": {},
     "output_type": "execute_result"
    }
   ],
   "source": [
    "# Acurácia de treinamento\n",
    "LR_grid.best_score_"
   ]
  },
  {
   "cell_type": "markdown",
   "metadata": {},
   "source": [
    "## Medindo a acurária com os dados de teste"
   ]
  },
  {
   "cell_type": "code",
   "execution_count": 111,
   "metadata": {},
   "outputs": [],
   "source": [
    "# Rodando o algoritmo Logistic Regression com a base de Teste\n",
    "y_pred_LR = LR_grid.predict(X_teste)"
   ]
  },
  {
   "cell_type": "code",
   "execution_count": 112,
   "metadata": {},
   "outputs": [
    {
     "name": "stdout",
     "output_type": "stream",
     "text": [
      "              precision    recall  f1-score   support\n",
      "\n",
      "           0       0.67      0.52      0.58       318\n",
      "           1       0.61      0.74      0.67       318\n",
      "\n",
      "    accuracy                           0.63       636\n",
      "   macro avg       0.64      0.63      0.63       636\n",
      "weighted avg       0.64      0.63      0.63       636\n",
      "\n",
      "Acurácia de Previsão: 0.6305031446540881\n"
     ]
    }
   ],
   "source": [
    "from sklearn.metrics import classification_report\n",
    "print(classification_report(y_teste, y_pred_LR, target_names=['0','1']))\n",
    "print(\"Acurácia de Previsão:\", accuracy_score(y_teste, y_pred_LR) )"
   ]
  },
  {
   "cell_type": "markdown",
   "metadata": {},
   "source": [
    "### Matriz de Confusão para o algoritmo Logistic Regression"
   ]
  },
  {
   "cell_type": "code",
   "execution_count": 113,
   "metadata": {},
   "outputs": [
    {
     "name": "stdout",
     "output_type": "stream",
     "text": [
      "\n",
      "********* MATRIZ DE CONFUSÃO - TUNNING DE PARÂMETROS ***********\n"
     ]
    },
    {
     "data": {
      "image/png": "[encoded data removed]",
      "text/plain": [
       "<Figure size 288x288 with 2 Axes>"
      ]
     },
     "metadata": {
      "needs_background": "light"
     },
     "output_type": "display_data"
    }
   ],
   "source": [
    "# Matriz de Confusão\n",
    "print(f'\\n********* MATRIZ DE CONFUSÃO - TUNNING DE PARÂMETROS ***********')\n",
    "cf_matrix = confusion_matrix(y_teste, y_pred_LR)\n",
    "cf_labels = ['True_Negative', 'False_Positive', 'False_Negative', 'True_Positive']\n",
    "cf_categories = ['Zero', 'One']\n",
    "mostra_confusion_matrix(cf_matrix, group_names = cf_labels, categories = cf_categories)"
   ]
  },
  {
   "cell_type": "markdown",
   "metadata": {},
   "source": [
    "# Modelo Random Forest"
   ]
  },
  {
   "cell_type": "code",
   "execution_count": 114,
   "metadata": {},
   "outputs": [],
   "source": [
    "# Importando a biblioteca\n",
    "from sklearn.ensemble import RandomForestClassifier"
   ]
  },
  {
   "cell_type": "code",
   "execution_count": 115,
   "metadata": {},
   "outputs": [
    {
     "data": {
      "text/plain": [
       "{'n_estimators': [50, 100, 200, 300, 800, 1000],\n",
       " 'criterion': ['gini', 'entropy'],\n",
       " 'bootstrap': [False, True],\n",
       " 'random_state': [196]}"
      ]
     },
     "execution_count": 115,
     "metadata": {},
     "output_type": "execute_result"
    }
   ],
   "source": [
    "# Criando dicionário com os hiperparâmetros\n",
    "RF_dict = {'n_estimators':[50,100,200,300,800,1000],   # numero de estimadores que será testado.\n",
    "           'criterion':['gini', 'entropy'],            # critérios\n",
    "           'bootstrap':[False, True],                  # amostragem com e sem reposição.\n",
    "           'random_state': [196]}\n",
    "RF_dict"
   ]
  },
  {
   "cell_type": "code",
   "execution_count": 116,
   "metadata": {},
   "outputs": [
    {
     "data": {
      "text/plain": [
       "GridSearchCV(cv=10, estimator=RandomForestClassifier(random_state=42),\n",
       "             param_grid={'bootstrap': [False, True],\n",
       "                         'criterion': ['gini', 'entropy'],\n",
       "                         'n_estimators': [50, 100, 200, 300, 800, 1000],\n",
       "                         'random_state': [196]},\n",
       "             scoring='accuracy')"
      ]
     },
     "execution_count": 116,
     "metadata": {},
     "output_type": "execute_result"
    }
   ],
   "source": [
    "RF = RandomForestClassifier(random_state=42)\n",
    "RF_grid = GridSearchCV(estimator=RF,       # modelo Random Forest\n",
    "                      param_grid=RF_dict,  # dicionario com parametros\n",
    "                      scoring='accuracy',  # parametro de validação: acurácia\n",
    "                      cv=10)               # cross-validation = 10 folds\n",
    "RF_grid"
   ]
  },
  {
   "cell_type": "code",
   "execution_count": 117,
   "metadata": {},
   "outputs": [
    {
     "data": {
      "text/plain": [
       "GridSearchCV(cv=10, estimator=RandomForestClassifier(random_state=42),\n",
       "             param_grid={'bootstrap': [False, True],\n",
       "                         'criterion': ['gini', 'entropy'],\n",
       "                         'n_estimators': [50, 100, 200, 300, 800, 1000],\n",
       "                         'random_state': [196]},\n",
       "             scoring='accuracy')"
      ]
     },
     "execution_count": 117,
     "metadata": {},
     "output_type": "execute_result"
    }
   ],
   "source": [
    "RF_grid.fit(X_treinamento, y_treinamento)"
   ]
  },
  {
   "cell_type": "code",
   "execution_count": 118,
   "metadata": {},
   "outputs": [
    {
     "data": {
      "text/plain": [
       "0.6366388760228501"
      ]
     },
     "execution_count": 118,
     "metadata": {},
     "output_type": "execute_result"
    }
   ],
   "source": [
    "RF_grid.best_score_"
   ]
  },
  {
   "cell_type": "markdown",
   "metadata": {},
   "source": [
    "### Medindo a acurária com os dados de teste"
   ]
  },
  {
   "cell_type": "code",
   "execution_count": 119,
   "metadata": {},
   "outputs": [],
   "source": [
    "# Rodando o algoritmo Random Forest\n",
    "y_pred_RF = RF_grid.predict(X_teste)"
   ]
  },
  {
   "cell_type": "code",
   "execution_count": 120,
   "metadata": {},
   "outputs": [
    {
     "name": "stdout",
     "output_type": "stream",
     "text": [
      "              precision    recall  f1-score   support\n",
      "\n",
      "           0       0.68      0.52      0.59       318\n",
      "           1       0.61      0.76      0.68       318\n",
      "\n",
      "    accuracy                           0.64       636\n",
      "   macro avg       0.65      0.64      0.63       636\n",
      "weighted avg       0.65      0.64      0.63       636\n",
      "\n",
      "Acurácia de Previsão: 0.6367924528301887\n"
     ]
    }
   ],
   "source": [
    "from sklearn.metrics import classification_report\n",
    "print(classification_report(y_teste, y_pred_RF, target_names=['0','1']))\n",
    "print(\"Acurácia de Previsão:\", accuracy_score(y_teste, y_pred_RF) )"
   ]
  },
  {
   "cell_type": "markdown",
   "metadata": {},
   "source": [
    "### Matriz de Confusão para o algoritmo Random Forest"
   ]
  },
  {
   "cell_type": "code",
   "execution_count": 122,
   "metadata": {},
   "outputs": [
    {
     "name": "stdout",
     "output_type": "stream",
     "text": [
      "\n",
      "********* MATRIZ DE CONFUSÃO - TUNNING DE PARÂMETROS ***********\n"
     ]
    },
    {
     "data": {
      "image/png": "[encoded data removed]",
      "text/plain": [
       "<Figure size 288x288 with 2 Axes>"
      ]
     },
     "metadata": {
      "needs_background": "light"
     },
     "output_type": "display_data"
    }
   ],
   "source": [
    "# Matriz de Confusão\n",
    "print(f'\\n********* MATRIZ DE CONFUSÃO - TUNNING DE PARÂMETROS ***********')\n",
    "cf_matrix = confusion_matrix(y_teste, y_pred_RF)\n",
    "cf_labels = ['True_Negative', 'False_Positive', 'False_Negative', 'True_Positive']\n",
    "cf_categories = ['Zero', 'One']\n",
    "mostra_confusion_matrix(cf_matrix, group_names = cf_labels, categories = cf_categories)"
   ]
  },
  {
   "cell_type": "code",
   "execution_count": null,
   "metadata": {},
   "outputs": [],
   "source": []
  }
 ],
 "metadata": {
  "kernelspec": {
   "display_name": "Python 3",
   "language": "python",
   "name": "python3"
  },
  "language_info": {
   "codemirror_mode": {
    "name": "ipython",
    "version": 3
   },
   "file_extension": ".py",
   "mimetype": "text/x-python",
   "name": "python",
   "nbconvert_exporter": "python",
   "pygments_lexer": "ipython3",
   "version": "3.8.5"
  }
 },
 "nbformat": 4,
 "nbformat_minor": 4
}
